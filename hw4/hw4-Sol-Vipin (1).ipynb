{
 "cells": [
  {
   "cell_type": "markdown",
   "metadata": {},
   "source": [
    "# HW4. Indexes & Query Processing"
   ]
  },
  {
   "cell_type": "markdown",
   "metadata": {},
   "source": [
    "## Objectives"
   ]
  },
  {
   "cell_type": "markdown",
   "metadata": {},
   "source": [
    "In this assignment, you will review what you have learned in the Views and Indexes and Query Processing Modules. you will further practice: \n",
    " - How indexing can change query processing\n",
    " - How indexing changes query performance\n",
    " - How B-Trees store records\n",
    " - Query processing and optimization"
   ]
  },
  {
   "cell_type": "markdown",
   "metadata": {},
   "source": [
    "## Q1 (10 points): Indexing"
   ]
  },
  {
   "cell_type": "markdown",
   "metadata": {},
   "source": [
    "In this question, you will be asked to select suitable indexes to speed up query performance and examine the query plan of a SQL query.\n",
    "\n",
    "We are going to use a new database called flights.db. In the database, there is a single table, called FLIGHTS. The following shows its schema:\n",
    "\n",
    "    FLIGHTS(fid, year, month_id, day_of_month, day_of_week_id, \n",
    "            carrier_id, flight_num, origin_city, origin_state, \n",
    "            dest_city, dest_state, departure_delay, taxi_out, \n",
    "            arrival_delay, canceled, actual_time, distance)\n",
    "\n",
    "Note that this task only needs to use four attributes: `carrier_id`, `origin_city`, `actual_time`, and `dest_city`."
   ]
  },
  {
   "cell_type": "code",
   "execution_count": 3,
   "metadata": {},
   "outputs": [
    {
     "name": "stdout",
     "output_type": "stream",
     "text": [
      "The sql extension is already loaded. To reload it, use:\n",
      "  %reload_ext sql\n"
     ]
    }
   ],
   "source": [
    "%load_ext sql"
   ]
  },
  {
   "cell_type": "code",
   "execution_count": 4,
   "metadata": {},
   "outputs": [
    {
     "data": {
      "text/plain": [
       "'Connected: @flight.db'"
      ]
     },
     "execution_count": 4,
     "metadata": {},
     "output_type": "execute_result"
    }
   ],
   "source": [
    "%sql sqlite:///flight.db"
   ]
  },
  {
   "cell_type": "markdown",
   "metadata": {},
   "source": [
    "Consider the following queries:\n",
    "\n",
    "```sqlite\n",
    "(a)  SELECT DISTINCT carrier_id\n",
    "     FROM Flights\n",
    "     WHERE origin_city = 'Seattle WA' AND actual_time <= 180;\n",
    "```\n",
    "\n",
    "\n",
    "```sqlite\n",
    "(b)  SELECT DISTINCT carrier_id\n",
    "     FROM Flights\n",
    "     WHERE origin_city = 'Gunnison CO' AND actual_time <= 180;\n",
    "```\n",
    "\n",
    "\n",
    "```sqlite\n",
    "(c)  SELECT DISTINCT carrier_id\n",
    "     FROM Flights\n",
    "     WHERE origin_city = 'Seattle WA' AND actual_time <= 30;\n",
    "```"
   ]
  },
  {
   "cell_type": "markdown",
   "metadata": {},
   "source": [
    "Choose one single simple index (index on one attribute) that is most likely to speed up all three queries. Write down the `CREATE INDEX` statement and explain why you chose that index below."
   ]
  },
  {
   "cell_type": "markdown",
   "metadata": {},
   "source": [
    "Q1.1. (1 point) What is the CREATE INDEX statement?"
   ]
  },
  {
   "cell_type": "code",
   "execution_count": 7,
   "metadata": {},
   "outputs": [
    {
     "name": "stdout",
     "output_type": "stream",
     "text": [
      " * sqlite:///flight.db\n",
      "Done.\n"
     ]
    },
    {
     "data": {
      "text/plain": [
       "[]"
      ]
     },
     "execution_count": 7,
     "metadata": {},
     "output_type": "execute_result"
    }
   ],
   "source": [
    "%%sql\n",
    "CREATE INDEX cityIndex ON Flights(origin_city);"
   ]
  },
  {
   "cell_type": "markdown",
   "metadata": {},
   "source": [
    "Q1.2. (1 point) Why did you choose the index? "
   ]
  },
  {
   "cell_type": "markdown",
   "metadata": {},
   "source": [
    "The condition of the query is on origin_city and actual_time attributes. While actual time has many differente values, the origin_city has a numebr of specific values (like buckets) where the search could be limited to."
   ]
  },
  {
   "cell_type": "markdown",
   "metadata": {},
   "source": [
    "Open a command line shell and start the sqlite program. Connect to the provided flights.db, and check whether the FLIGHTS table has the index that you indicate above. If not, add this index to the FLIGHTS table. "
   ]
  },
  {
   "cell_type": "markdown",
   "metadata": {},
   "source": [
    "Q1.3. (0.5 point) Does the FLIGHTS table has the index that you indicate above?"
   ]
  },
  {
   "cell_type": "code",
   "execution_count": 11,
   "metadata": {},
   "outputs": [
    {
     "name": "stdout",
     "output_type": "stream",
     "text": [
      " * sqlite:///flight.db\n",
      "Done.\n"
     ]
    },
    {
     "data": {
      "text/html": [
       "<table>\n",
       "    <tr>\n",
       "        <th>type</th>\n",
       "        <th>name</th>\n",
       "        <th>tbl_name</th>\n",
       "        <th>rootpage</th>\n",
       "        <th>sql</th>\n",
       "    </tr>\n",
       "    <tr>\n",
       "        <td>index</td>\n",
       "        <td>sqlite_autoindex_FLIGHTS_1</td>\n",
       "        <td>FLIGHTS</td>\n",
       "        <td>33677</td>\n",
       "        <td>None</td>\n",
       "    </tr>\n",
       "    <tr>\n",
       "        <td>index</td>\n",
       "        <td>cityIndex</td>\n",
       "        <td>FLIGHTS</td>\n",
       "        <td>10500</td>\n",
       "        <td>CREATE INDEX cityIndex ON Flights(origin_city)</td>\n",
       "    </tr>\n",
       "</table>"
      ],
      "text/plain": [
       "[('index', 'sqlite_autoindex_FLIGHTS_1', 'FLIGHTS', 33677, None),\n",
       " ('index', 'cityIndex', 'FLIGHTS', 10500, 'CREATE INDEX cityIndex ON Flights(origin_city)')]"
      ]
     },
     "execution_count": 11,
     "metadata": {},
     "output_type": "execute_result"
    }
   ],
   "source": [
    "%%sql\n",
    "SELECT * FROM sqlite_master WHERE type = 'index';"
   ]
  },
  {
   "cell_type": "markdown",
   "metadata": {},
   "source": [
    "As shows, the FLIGHTS table only has sqlite autoindex. We then created the cityIndex as above, so it has this index now."
   ]
  },
  {
   "cell_type": "markdown",
   "metadata": {},
   "source": [
    "Q1.4. (1.5 point) Please check whether each query used the index or not. \n",
    "\n",
    "**Hint:** you can use `EXPLAIN QUERY PLAN` to see the query plan of each query. Indicate for each query if it used the index or not. "
   ]
  },
  {
   "cell_type": "code",
   "execution_count": 12,
   "metadata": {},
   "outputs": [
    {
     "name": "stdout",
     "output_type": "stream",
     "text": [
      " * sqlite:///flight.db\n",
      "Done.\n"
     ]
    },
    {
     "data": {
      "text/html": [
       "<table>\n",
       "    <tr>\n",
       "        <th>id</th>\n",
       "        <th>parent</th>\n",
       "        <th>notused</th>\n",
       "        <th>detail</th>\n",
       "    </tr>\n",
       "    <tr>\n",
       "        <td>4</td>\n",
       "        <td>0</td>\n",
       "        <td>0</td>\n",
       "        <td>SEARCH TABLE Flights USING INDEX cityIndex (origin_city=?)</td>\n",
       "    </tr>\n",
       "    <tr>\n",
       "        <td>18</td>\n",
       "        <td>0</td>\n",
       "        <td>0</td>\n",
       "        <td>USE TEMP B-TREE FOR DISTINCT</td>\n",
       "    </tr>\n",
       "</table>"
      ],
      "text/plain": [
       "[(4, 0, 0, 'SEARCH TABLE Flights USING INDEX cityIndex (origin_city=?)'),\n",
       " (18, 0, 0, 'USE TEMP B-TREE FOR DISTINCT')]"
      ]
     },
     "execution_count": 12,
     "metadata": {},
     "output_type": "execute_result"
    }
   ],
   "source": [
    "%%sql\n",
    "EXPLAIN QUERY PLAN\n",
    "SELECT DISTINCT carrier_id\n",
    "FROM Flights\n",
    "WHERE origin_city = 'Seattle WA' AND actual_time <= 180;"
   ]
  },
  {
   "cell_type": "code",
   "execution_count": 13,
   "metadata": {},
   "outputs": [
    {
     "name": "stdout",
     "output_type": "stream",
     "text": [
      " * sqlite:///flight.db\n",
      "Done.\n"
     ]
    },
    {
     "data": {
      "text/html": [
       "<table>\n",
       "    <tr>\n",
       "        <th>id</th>\n",
       "        <th>parent</th>\n",
       "        <th>notused</th>\n",
       "        <th>detail</th>\n",
       "    </tr>\n",
       "    <tr>\n",
       "        <td>4</td>\n",
       "        <td>0</td>\n",
       "        <td>0</td>\n",
       "        <td>SEARCH TABLE Flights USING INDEX cityIndex (origin_city=?)</td>\n",
       "    </tr>\n",
       "    <tr>\n",
       "        <td>18</td>\n",
       "        <td>0</td>\n",
       "        <td>0</td>\n",
       "        <td>USE TEMP B-TREE FOR DISTINCT</td>\n",
       "    </tr>\n",
       "</table>"
      ],
      "text/plain": [
       "[(4, 0, 0, 'SEARCH TABLE Flights USING INDEX cityIndex (origin_city=?)'),\n",
       " (18, 0, 0, 'USE TEMP B-TREE FOR DISTINCT')]"
      ]
     },
     "execution_count": 13,
     "metadata": {},
     "output_type": "execute_result"
    }
   ],
   "source": [
    "%%sql\n",
    "EXPLAIN QUERY PLAN\n",
    "SELECT DISTINCT carrier_id\n",
    "FROM Flights\n",
    "WHERE origin_city = 'Gunnison CO' AND actual_time <= 180;"
   ]
  },
  {
   "cell_type": "code",
   "execution_count": 14,
   "metadata": {},
   "outputs": [
    {
     "name": "stdout",
     "output_type": "stream",
     "text": [
      " * sqlite:///flight.db\n",
      "Done.\n"
     ]
    },
    {
     "data": {
      "text/html": [
       "<table>\n",
       "    <tr>\n",
       "        <th>id</th>\n",
       "        <th>parent</th>\n",
       "        <th>notused</th>\n",
       "        <th>detail</th>\n",
       "    </tr>\n",
       "    <tr>\n",
       "        <td>4</td>\n",
       "        <td>0</td>\n",
       "        <td>0</td>\n",
       "        <td>SEARCH TABLE Flights USING INDEX cityIndex (origin_city=?)</td>\n",
       "    </tr>\n",
       "    <tr>\n",
       "        <td>18</td>\n",
       "        <td>0</td>\n",
       "        <td>0</td>\n",
       "        <td>USE TEMP B-TREE FOR DISTINCT</td>\n",
       "    </tr>\n",
       "</table>"
      ],
      "text/plain": [
       "[(4, 0, 0, 'SEARCH TABLE Flights USING INDEX cityIndex (origin_city=?)'),\n",
       " (18, 0, 0, 'USE TEMP B-TREE FOR DISTINCT')]"
      ]
     },
     "execution_count": 14,
     "metadata": {},
     "output_type": "execute_result"
    }
   ],
   "source": [
    "%%sql\n",
    "EXPLAIN QUERY PLAN\n",
    "SELECT DISTINCT carrier_id\n",
    "FROM Flights\n",
    "WHERE origin_city = 'Seattle WA' AND actual_time <= 30;"
   ]
  },
  {
   "cell_type": "markdown",
   "metadata": {},
   "source": [
    "It shows that it did, in all three queries."
   ]
  },
  {
   "cell_type": "markdown",
   "metadata": {},
   "source": [
    "Now, consider this query:\n",
    "\n",
    "```sqlite\n",
    "(d) SELECT DISTINCT F2.origin_city\n",
    "     FROM Flights F1, Flights F2\n",
    "     WHERE F1.dest_city = F2.dest_city\n",
    "         AND F1.origin_city='Gunnison CO'\n",
    "         AND F1.actual_time <= 30;\n",
    "```"
   ]
  },
  {
   "cell_type": "markdown",
   "metadata": {},
   "source": [
    "Q1.5. (2 points) Choose one simple index (index on one attribute), different from the index for the question above, that is likely to speed up this query. Write down the `CREATE INDEX` statement."
   ]
  },
  {
   "cell_type": "code",
   "execution_count": 15,
   "metadata": {},
   "outputs": [
    {
     "name": "stdout",
     "output_type": "stream",
     "text": [
      " * sqlite:///flight.db\n",
      "Done.\n"
     ]
    },
    {
     "data": {
      "text/plain": [
       "[]"
      ]
     },
     "execution_count": 15,
     "metadata": {},
     "output_type": "execute_result"
    }
   ],
   "source": [
    "%%sql\n",
    "CREATE INDEX DestCityIndex ON Flights(dest_city);"
   ]
  },
  {
   "cell_type": "markdown",
   "metadata": {},
   "source": [
    "Check whether the FLIGHTS table has this second index that you indicate above. If not, add this index to the FLIGHTS table. "
   ]
  },
  {
   "cell_type": "markdown",
   "metadata": {},
   "source": [
    "Now we want to know how effective the two indexes are. We compare the runtimes of the queries with and without indexes. \n",
    "\n",
    "**Hint:** Use `timer on` on sqlite3 command line to turn SQL timer on."
   ]
  },
  {
   "cell_type": "markdown",
   "metadata": {},
   "source": [
    "Q1.6. (2 points) Execute queries (a) to (d) on the FLIGHTS table that do not have the two indexes. Please record the runtime of each query. "
   ]
  },
  {
   "cell_type": "markdown",
   "metadata": {},
   "source": [
    "`sqlite> .timer on\n",
    "sqlite> SELECT DISTINCT carrier_id\n",
    "   ...>      FROM Flights\n",
    "   ...>      WHERE origin_city = 'Seattle WA' AND actual_time <= 180;\n",
    "AS\n",
    "DL\n",
    "EV\n",
    "F9\n",
    "HP\n",
    "NW\n",
    "OO\n",
    "UA\n",
    "WN\n",
    "AA\n",
    "B6\n",
    "VX\n",
    "Run Time: real 0.113 user 0.085564 sys 0.027262\n",
    "sqlite> SELECT DISTINCT carrier_id\n",
    "   ...>      FROM Flights\n",
    "   ...>      WHERE origin_city = 'Gunnison CO' AND actual_time <= 180;\n",
    "OO\n",
    "Run Time: real 0.108 user 0.081501 sys 0.026101\n",
    "sqlite> SELECT DISTINCT carrier_id\n",
    "   ...>      FROM Flights\n",
    "   ...>      WHERE origin_city = 'Seattle WA' AND actual_time <= 30;\n",
    "Run Time: real 0.107 user 0.081649 sys 0.025550\n",
    "sqlite> \n",
    "sqlite> SELECT DISTINCT F2.origin_city\n",
    "   ...>      FROM Flights F1, Flights F2\n",
    "   ...>      WHERE F1.dest_city = F2.dest_city\n",
    "   ...>          AND F1.origin_city='Gunnison CO'\n",
    "   ...>          AND F1.actual_time <= 30;\n",
    "Run Time: real 0.108 user 0.082539 sys 0.026045`"
   ]
  },
  {
   "cell_type": "markdown",
   "metadata": {},
   "source": [
    "Q1.7. (2 points) Execute queries (a) to (d) on the FLIGHTS table that has the two indexes. Please record the runtime of each query. "
   ]
  },
  {
   "cell_type": "markdown",
   "metadata": {},
   "source": [
    "`sqlite> SELECT DISTINCT carrier_id\n",
    "   ...> FROM Flights\n",
    "   ...> WHERE origin_city = 'Seattle WA' AND actual_time <= 180;\n",
    "AS\n",
    "DL\n",
    "EV\n",
    "F9\n",
    "HP\n",
    "NW\n",
    "OO\n",
    "UA\n",
    "WN\n",
    "AA\n",
    "B6\n",
    "VX\n",
    "Run Time: real 0.017 user 0.010907 sys 0.006287\n",
    "sqlite> SELECT DISTINCT carrier_id\n",
    "   ...> FROM Flights\n",
    "   ...> WHERE origin_city = 'Gunnison CO' AND actual_time <= 180;\n",
    "OO\n",
    "Run Time: real 0.000 user 0.000187 sys 0.000173\n",
    "sqlite> SELECT DISTINCT carrier_id\n",
    "   ...> FROM Flights\n",
    "   ...> WHERE origin_city = 'Seattle WA' AND actual_time <= 30;\n",
    "Run Time: real 0.016 user 0.009144 sys 0.006341\n",
    "sqlite> SELECT DISTINCT F2.origin_city\n",
    "   ...>      FROM Flights F1, Flights F2\n",
    "   ...>      WHERE F1.dest_city = F2.dest_city\n",
    "   ...>          AND F1.origin_city='Gunnison CO'\n",
    "   ...>          AND F1.actual_time <= 30;\n",
    "Run Time: real 0.000 user 0.000155 sys 0.000124`"
   ]
  },
  {
   "cell_type": "markdown",
   "metadata": {},
   "source": [
    "## Q2 (6 points): B-Trees"
   ]
  },
  {
   "cell_type": "markdown",
   "metadata": {},
   "source": [
    "Assume:\n",
    "\n",
    "    (1) blocks can hold either 10 records or 99 keys and 100 pointers\n",
    "    (2) the average B-tree node is 70% full. This means it will have 69 keys and 70 pointers. \n",
    "\n",
    "We can use B-trees as part of several different structures. For each structure described in the questions Q2.1 to Q2.3 below, determine: \n",
    "\n",
    "    (a) the total number of blocks needed for a 1,000,000-record file\n",
    "    (b) the average number of disk I/O’s to retrieve a record given its search key\n",
    "\n",
    "You may assume nothing is in memory initially, and the search key is the primary key for the records."
   ]
  },
  {
   "cell_type": "markdown",
   "metadata": {},
   "source": [
    "Q2.1. (2 points) The data file is a sequential file, sorted on the search key, with 10 records per block. The B-tree is a dense index."
   ]
  },
  {
   "cell_type": "markdown",
   "metadata": {},
   "source": [
    "Total Blocks = 114,494 blocks = 100,000 (= 1,000,000/10, for data; @ lowest level) + 14,286 (= 1,000,000/70 @ leaf level) + 204 (= 14,286/70 @ pre-leaf level) + 3 (= 205/70 @ second level) + 1 (the root)\n",
    "\n",
    "\n",
    "Average Disk Reads - 5\n",
    "\n",
    "How did we arrive at solution?\n",
    "First, there are 100,000 data blocks. If there are an average of 70 pointers per block in the\n",
    "bottom-level nodes of the B-tree, then there are 1,000,000/70 = 14286 B-tree blocks at that\n",
    "level. The next level of the B-tree requires 1/70th of that, or 204 blocks, and the third level\n",
    "has 1/70th of that, or 3 blocks. The fourth level has only the root block. The number of\n",
    "blocks needed is therefore 100,000 + 14,286 + 204 + 3 + 1 = 114,494 blocks.\n",
    "Since the B-tree has four levels, we must make a total of five disk reads to go through the Btree to the desired data block. "
   ]
  },
  {
   "cell_type": "markdown",
   "metadata": {},
   "source": [
    "Q2.2. (2 points) The data file is a sequential file, sorted on the search key, with 10 records per block. The B-tree is a sparse index."
   ]
  },
  {
   "cell_type": "markdown",
   "metadata": {},
   "source": [
    "Total Blocks - 101,451 blocks = 100,000 (= 1,000,000/10, for data; @ lowest level) + 1,429 (= 100,000/70 @ leaf level) + 21 (= 1,429/70 @ second level) + 1 (the root)\n",
    "\n",
    "\n",
    "Average Reads - 4\n"
   ]
  },
  {
   "cell_type": "markdown",
   "metadata": {},
   "source": [
    "Q2.3. (2 points) The data file consists of records in no particular order, packed 10 to a block. The B-tree is a dense index."
   ]
  },
  {
   "cell_type": "markdown",
   "metadata": {},
   "source": [
    "(a) As we need to keep a pointer for each record we will need 1,000,000 pointers. For full tree (yielding 3-level tree), that will be 10,000 leaf nodes, 100 middle, and 1 root =1000101 blocks in the B-tree (that would be required number of blocks)\n",
    "\n",
    "If we want to ensure the required blocks with 70% occupancy, assuming each leaf node will have 70 pointers, and we will need 14286 leaf blocks, and level below that would have 205 nodes, and 3 the first level, and 1 node for root. This would total on 14495.\n",
    "\n",
    "The number of blocks needed for records is 100,0000/10 = 100,000\n",
    "\n",
    "Total number of blocks: 100,000 + 14495 = 114495\n",
    "\n",
    "(b) Average Disk Reads - 5\n"
   ]
  },
  {
   "cell_type": "markdown",
   "metadata": {},
   "source": [
    "## Q3 (9 points): Query Processing"
   ]
  },
  {
   "cell_type": "markdown",
   "metadata": {},
   "source": [
    "In the first assignment, given the bank database below:\n",
    "\n",
    " - Customer = {<span style=\"text-decoration:underline\">customerID</span>, firstName, lastName, income, birthDate}\n",
    " - Account = {<span style=\"text-decoration:underline\">accNumber</span>, type, balance, branchNumber<sup>FK-Branch</sup>}\n",
    " - Owns = {<span style=\"text-decoration:underline\">customerID</span><sup>FK-Customer</sup>, <span style=\"text-decoration:underline\">accNumber</span><sup>FK-Account</sup>}\n",
    " - Transactions = {<span style=\"text-decoration:underline\">transNumber</span>, <span style=\"text-decoration:underline\">accNumber</span><sup>FK-Account</sup>, amount}\n",
    " - Employee = {<span style=\"text-decoration:underline\">sin</span>, firstName, lastName, salary, branchNumber<sup>FK-Branch</sup>}\n",
    " - Branch = {<span style=\"text-decoration:underline\">branchNumber</span>, branchName, managerSIN<sup>FK-Employee</sup>, budget}\n",
    "\n",
    "you wrote a SQL query to:\n",
    "\n",
    "Show account number, account type, account balance, and transaction amount of the accounts with balance higher than 100,000 and transaction amounts higher than 15000, starting with the accounts with the highest transaction amount and highest account balance. "
   ]
  },
  {
   "cell_type": "markdown",
   "metadata": {},
   "source": [
    "Q3.1. (3 points) Parse your query into a query parse tree."
   ]
  },
  {
   "cell_type": "markdown",
   "metadata": {},
   "source": [
    "Below is the query we have written for this request previously."
   ]
  },
  {
   "cell_type": "code",
   "execution_count": null,
   "metadata": {},
   "outputs": [],
   "source": [
    "%%sql\n",
    "SELECT account.accNumber, account.type, balance, amount \n",
    "FROM account join transactions \n",
    "WHERE \n",
    "    (account.accNumber=transactions.accNumber \n",
    "    and transactions.amount>=15000 \n",
    "    and balance>=100000) \n",
    "ORDER BY amount desc, balance desc;"
   ]
  },
  {
   "cell_type": "markdown",
   "metadata": {
    "scrolled": true
   },
   "source": [
    "<img src=\"./ParseTree.png\" alt=\"ParseTree.png\" style=\"width: 650px;\"/>"
   ]
  },
  {
   "cell_type": "markdown",
   "metadata": {},
   "source": [
    "Q3.2. (3 points) Convert your parse tree to the equivalent relational algebraic representation (rewrite if necessary)."
   ]
  },
  {
   "cell_type": "markdown",
   "metadata": {},
   "source": [
    "<img src=\"QP.png\" alt=\"QP.png\" style=\"width: 450px;\"/> \n",
    "\n",
    "Note: The figure is not the rewritten RA. The rewritten one would have the selections pushed down."
   ]
  },
  {
   "cell_type": "markdown",
   "metadata": {},
   "source": [
    "Q3.3. (3 points) Assume you have a million records in each of the six tables above. If you need, make necessary assumptions about your storage blocks, as well as about charactristics in the bank.db. Can you enumerate the size and cost of the intermediate tables in your query plan?"
   ]
  },
  {
   "cell_type": "markdown",
   "metadata": {},
   "source": [
    "T(account) = 1M\n",
    "\n",
    "T(transactions) = 1M\n",
    "\n",
    "V(accounts, accNumer) = 1M  (since accNumber is the key for this relation)\n",
    "\n",
    "**Asumptions:**  ()\n",
    "\n",
    "V(transactions, accNumber) = 10000\n",
    "\n",
    "V(transactions,amount) = 3000\n",
    "\n",
    "V(account, balance) = 1000\n",
    "\n",
    "\n",
    "**Calculations:**\n",
    "The following is the required. The rest could be different based on assumptions.\n",
    "\n",
    "T(transactions JOIN account) = 1Mx1M/MAX(V(transactions,accNumber),V(accounts, accNumer)) = 1Mx1M/300000   "
   ]
  },
  {
   "cell_type": "markdown",
   "metadata": {},
   "source": [
    "## Submission"
   ]
  },
  {
   "cell_type": "markdown",
   "metadata": {},
   "source": [
    "Complete the answers to the questions in the [hw4.ipynb](hw4.ipynb) notebook and zip the notebook with additional files that you may have used in a file named HW4.zip, and submit it through Canvas system to your Homework (4) activity."
   ]
  }
 ],
 "metadata": {
  "kernelspec": {
   "display_name": "Python 3",
   "language": "python",
   "name": "python3"
  },
  "language_info": {
   "codemirror_mode": {
    "name": "ipython",
    "version": 3
   },
   "file_extension": ".py",
   "mimetype": "text/x-python",
   "name": "python",
   "nbconvert_exporter": "python",
   "pygments_lexer": "ipython3",
   "version": "3.7.4"
  }
 },
 "nbformat": 4,
 "nbformat_minor": 2
}
