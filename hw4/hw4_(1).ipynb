{
  "nbformat": 4,
  "nbformat_minor": 0,
  "metadata": {
    "kernelspec": {
      "display_name": "Python 3",
      "language": "python",
      "name": "python3"
    },
    "language_info": {
      "codemirror_mode": {
        "name": "ipython",
        "version": 3
      },
      "file_extension": ".py",
      "mimetype": "text/x-python",
      "name": "python",
      "nbconvert_exporter": "python",
      "pygments_lexer": "ipython3",
      "version": "3.7.4"
    },
    "colab": {
      "name": "hw4 (1).ipynb",
      "provenance": [],
      "collapsed_sections": []
    }
  },
  "cells": [
    {
      "cell_type": "markdown",
      "metadata": {
        "id": "KrlE2vW1taFG",
        "colab_type": "text"
      },
      "source": [
        "# HW4. Indexes & Query Processing"
      ]
    },
    {
      "cell_type": "markdown",
      "metadata": {
        "id": "b1QhQwDjtaFH",
        "colab_type": "text"
      },
      "source": [
        "## Objectives"
      ]
    },
    {
      "cell_type": "markdown",
      "metadata": {
        "id": "xsCb6saFtaFI",
        "colab_type": "text"
      },
      "source": [
        "In this assignment, you will review what you have learned in the Views and Indexes and Query Processing Modules. you will further practice: \n",
        " - How indexing can change query processing\n",
        " - How indexing changes query performance\n",
        " - How B-Trees store records\n",
        " - Query processing and optimization"
      ]
    },
    {
      "cell_type": "markdown",
      "metadata": {
        "id": "1vf11egptaFJ",
        "colab_type": "text"
      },
      "source": [
        "## Q1 (10 points): Indexing"
      ]
    },
    {
      "cell_type": "markdown",
      "metadata": {
        "id": "lhl0uQzftaFJ",
        "colab_type": "text"
      },
      "source": [
        "In this question, you will be asked to select suitable indexes to speed up query performance and examine the query plan of a SQL query.\n",
        "\n",
        "We are going to use a new database called flights.db. In the database, there is a single table, called FLIGHTS. The following shows its schema:\n",
        "\n",
        "    FLIGHTS(fid, year, month_id, day_of_month, day_of_week_id, \n",
        "            carrier_id, flight_num, origin_city, origin_state, \n",
        "            dest_city, dest_state, departure_delay, taxi_out, \n",
        "            arrival_delay, canceled, actual_time, distance)\n",
        "\n",
        "Note that this task only needs to use four attributes: `carrier_id`, `origin_city`, `actual_time`, and `dest_city`."
      ]
    },
    {
      "cell_type": "code",
      "metadata": {
        "id": "wC8bO-0utaFK",
        "colab_type": "code",
        "colab": {}
      },
      "source": [
        "%load_ext sql"
      ],
      "execution_count": 0,
      "outputs": []
    },
    {
      "cell_type": "code",
      "metadata": {
        "id": "uX69cSsttaFO",
        "colab_type": "code",
        "outputId": "b4aa33e2-9f65-4e6f-a5f0-18d85f8cdd46",
        "colab": {
          "base_uri": "https://localhost:8080/",
          "height": 35
        }
      },
      "source": [
        "%sql sqlite:///flight.db"
      ],
      "execution_count": 2,
      "outputs": [
        {
          "output_type": "execute_result",
          "data": {
            "text/plain": [
              "'Connected: @flight.db'"
            ]
          },
          "metadata": {
            "tags": []
          },
          "execution_count": 2
        }
      ]
    },
    {
      "cell_type": "markdown",
      "metadata": {
        "id": "MvXdmhCptaFR",
        "colab_type": "text"
      },
      "source": [
        "Consider the following queries:\n",
        "\n",
        "```sqlite\n",
        "(a)  SELECT DISTINCT carrier_id\n",
        "     FROM Flights\n",
        "     WHERE origin_city = 'Seattle WA' AND actual_time <= 180;\n",
        "```\n",
        "\n",
        "\n",
        "```sqlite\n",
        "(b)  SELECT DISTINCT carrier_id\n",
        "     FROM Flights\n",
        "     WHERE origin_city = 'Gunnison CO' AND actual_time <= 180;\n",
        "```\n",
        "\n",
        "\n",
        "```sqlite\n",
        "(c)  SELECT DISTINCT carrier_id\n",
        "     FROM Flights\n",
        "     WHERE origin_city = 'Seattle WA' AND actual_time <= 30;\n",
        "```"
      ]
    },
    {
      "cell_type": "markdown",
      "metadata": {
        "id": "Fw2in_gctaFR",
        "colab_type": "text"
      },
      "source": [
        "Choose one single simple index (index on one attribute) that is most likely to speed up all three queries. Write down the `CREATE INDEX` statement and explain why you chose that index below."
      ]
    },
    {
      "cell_type": "markdown",
      "metadata": {
        "id": "u1EGeVB8taFS",
        "colab_type": "text"
      },
      "source": [
        "Q1.1. (1 point) What is the CREATE INDEX statement?"
      ]
    },
    {
      "cell_type": "code",
      "metadata": {
        "id": "vallJpaOtaFT",
        "colab_type": "code",
        "outputId": "377d69fa-b330-46b4-fe28-9f826fe836da",
        "colab": {
          "base_uri": "https://localhost:8080/",
          "height": 70
        }
      },
      "source": [
        "%%sql\n",
        "CREATE INDEX idx1 on Flights(actual_time)"
      ],
      "execution_count": 3,
      "outputs": [
        {
          "output_type": "stream",
          "text": [
            " * sqlite:///flight.db\n",
            "Done.\n"
          ],
          "name": "stdout"
        },
        {
          "output_type": "execute_result",
          "data": {
            "text/plain": [
              "[]"
            ]
          },
          "metadata": {
            "tags": []
          },
          "execution_count": 3
        }
      ]
    },
    {
      "cell_type": "markdown",
      "metadata": {
        "id": "8a4TI5wptaFW",
        "colab_type": "text"
      },
      "source": [
        "Q1.2. (1 point) Why did you choose the index? "
      ]
    },
    {
      "cell_type": "markdown",
      "metadata": {
        "id": "jDQ6vUEktaFW",
        "colab_type": "text"
      },
      "source": [
        "The reason why I choose actual_time is because that there is already a clustered index for the selection query -- but the actual_time query is less efficient due to the comparison.\n",
        "\n"
      ]
    },
    {
      "cell_type": "markdown",
      "metadata": {
        "id": "pUO2GZ_OtaFX",
        "colab_type": "text"
      },
      "source": [
        "Open a command line shell and start the sqlite program. Connect to the provided flights.db, and check whether the FLIGHTS table has the index that you indicate above. If not, add this index to the FLIGHTS table. "
      ]
    },
    {
      "cell_type": "markdown",
      "metadata": {
        "id": "-WHcr34ItaFY",
        "colab_type": "text"
      },
      "source": [
        "Q1.3. (0.5 point) Does the FLIGHTS table has the index that you indicate above?"
      ]
    },
    {
      "cell_type": "code",
      "metadata": {
        "id": "oMHOt6dZMi2h",
        "colab_type": "code",
        "outputId": "6c27a175-088d-47c7-e664-0c2f620425d9",
        "colab": {
          "base_uri": "https://localhost:8080/",
          "height": 114
        }
      },
      "source": [
        "%%sql\n",
        "SELECT * FROM Flights INDEXED BY idx1 WHERE actual_time <= 15\n"
      ],
      "execution_count": 4,
      "outputs": [
        {
          "output_type": "stream",
          "text": [
            " * sqlite:///flight.db\n",
            "Done.\n"
          ],
          "name": "stdout"
        },
        {
          "output_type": "execute_result",
          "data": {
            "text/html": [
              "<table>\n",
              "    <tr>\n",
              "        <th>fid</th>\n",
              "        <th>year</th>\n",
              "        <th>month_id</th>\n",
              "        <th>day_of_month</th>\n",
              "        <th>day_of_week_id</th>\n",
              "        <th>carrier_id</th>\n",
              "        <th>flight_num</th>\n",
              "        <th>origin_city</th>\n",
              "        <th>origin_state</th>\n",
              "        <th>dest_city</th>\n",
              "        <th>dest_state</th>\n",
              "        <th>departure_delay</th>\n",
              "        <th>taxi_out</th>\n",
              "        <th>arrival_delay</th>\n",
              "        <th>canceled</th>\n",
              "        <th>actual_time</th>\n",
              "        <th>distance</th>\n",
              "    </tr>\n",
              "    <tr>\n",
              "        <td>713473</td>\n",
              "        <td>2015</td>\n",
              "        <td>7</td>\n",
              "        <td>22</td>\n",
              "        <td>3</td>\n",
              "        <td>AS</td>\n",
              "        <td>65</td>\n",
              "        <td>Wrangell AK</td>\n",
              "        <td>Alaska</td>\n",
              "        <td>Petersburg AK</td>\n",
              "        <td>Alaska</td>\n",
              "        <td>-13.0</td>\n",
              "        <td>3.0</td>\n",
              "        <td>-19.0</td>\n",
              "        <td>0</td>\n",
              "        <td>14.0</td>\n",
              "        <td>31.0</td>\n",
              "    </tr>\n",
              "    <tr>\n",
              "        <td>395267</td>\n",
              "        <td>2005</td>\n",
              "        <td>7</td>\n",
              "        <td>14</td>\n",
              "        <td>4</td>\n",
              "        <td>OO</td>\n",
              "        <td>6107</td>\n",
              "        <td>Los Angeles CA</td>\n",
              "        <td>California</td>\n",
              "        <td>Oxnard/Ventura CA</td>\n",
              "        <td>California</td>\n",
              "        <td>0.0</td>\n",
              "        <td>2.0</td>\n",
              "        <td>-15.0</td>\n",
              "        <td>0</td>\n",
              "        <td>15.0</td>\n",
              "        <td>49.0</td>\n",
              "    </tr>\n",
              "</table>"
            ],
            "text/plain": [
              "[(713473, 2015, 7, 22, 3, 'AS', 65, 'Wrangell AK', 'Alaska', 'Petersburg AK', 'Alaska', -13.0, 3.0, -19.0, 0, 14.0, 31.0),\n",
              " (395267, 2005, 7, 14, 4, 'OO', 6107, 'Los Angeles CA', 'California', 'Oxnard/Ventura CA', 'California', 0.0, 2.0, -15.0, 0, 15.0, 49.0)]"
            ]
          },
          "metadata": {
            "tags": []
          },
          "execution_count": 4
        }
      ]
    },
    {
      "cell_type": "markdown",
      "metadata": {
        "id": "kaT9b7-CPYKW",
        "colab_type": "text"
      },
      "source": [
        "Yes, the FLIGHTS table has the index idx1."
      ]
    },
    {
      "cell_type": "markdown",
      "metadata": {
        "id": "d8QzEfybtaFZ",
        "colab_type": "text"
      },
      "source": [
        "Q1.4. (1.5 point) Please check whether each query used the index or not. \n",
        "\n",
        "**Hint:** you can use `EXPLAIN QUERY PLAN` to see the query plan of each query. Indicate for each query if it used the index or not. "
      ]
    },
    {
      "cell_type": "code",
      "metadata": {
        "id": "tkwHiPzhRI1Y",
        "colab_type": "code",
        "outputId": "05a9cf8a-5c2e-45b9-862b-daf2fd482568",
        "colab": {
          "base_uri": "https://localhost:8080/",
          "height": 114
        }
      },
      "source": [
        "%%sql\n",
        "EXPLAIN QUERY PLAN SELECT DISTINCT carrier_id\n",
        "     FROM Flights\n",
        "     WHERE origin_city = 'Seattle WA' AND actual_time <= 180"
      ],
      "execution_count": 5,
      "outputs": [
        {
          "output_type": "stream",
          "text": [
            " * sqlite:///flight.db\n",
            "Done.\n"
          ],
          "name": "stdout"
        },
        {
          "output_type": "execute_result",
          "data": {
            "text/html": [
              "<table>\n",
              "    <tr>\n",
              "        <th>selectid</th>\n",
              "        <th>order</th>\n",
              "        <th>from</th>\n",
              "        <th>detail</th>\n",
              "    </tr>\n",
              "    <tr>\n",
              "        <td>0</td>\n",
              "        <td>0</td>\n",
              "        <td>0</td>\n",
              "        <td>SEARCH TABLE Flights USING INDEX idx1 (actual_time&lt;?)</td>\n",
              "    </tr>\n",
              "    <tr>\n",
              "        <td>0</td>\n",
              "        <td>0</td>\n",
              "        <td>0</td>\n",
              "        <td>USE TEMP B-TREE FOR DISTINCT</td>\n",
              "    </tr>\n",
              "</table>"
            ],
            "text/plain": [
              "[(0, 0, 0, 'SEARCH TABLE Flights USING INDEX idx1 (actual_time<?)'),\n",
              " (0, 0, 0, 'USE TEMP B-TREE FOR DISTINCT')]"
            ]
          },
          "metadata": {
            "tags": []
          },
          "execution_count": 5
        }
      ]
    },
    {
      "cell_type": "markdown",
      "metadata": {
        "id": "jUyvSJLielVh",
        "colab_type": "text"
      },
      "source": [
        "The index idx1 was used."
      ]
    },
    {
      "cell_type": "code",
      "metadata": {
        "id": "GEXxi8FKRSb3",
        "colab_type": "code",
        "outputId": "f17c20ec-a1a4-49cc-a815-5720af5138ec",
        "colab": {
          "base_uri": "https://localhost:8080/",
          "height": 114
        }
      },
      "source": [
        "%%sql\n",
        "EXPLAIN QUERY PLAN SELECT DISTINCT carrier_id\n",
        "     FROM Flights\n",
        "     WHERE origin_city = 'Gunnison CO' AND actual_time <= 180"
      ],
      "execution_count": 6,
      "outputs": [
        {
          "output_type": "stream",
          "text": [
            " * sqlite:///flight.db\n",
            "Done.\n"
          ],
          "name": "stdout"
        },
        {
          "output_type": "execute_result",
          "data": {
            "text/html": [
              "<table>\n",
              "    <tr>\n",
              "        <th>selectid</th>\n",
              "        <th>order</th>\n",
              "        <th>from</th>\n",
              "        <th>detail</th>\n",
              "    </tr>\n",
              "    <tr>\n",
              "        <td>0</td>\n",
              "        <td>0</td>\n",
              "        <td>0</td>\n",
              "        <td>SEARCH TABLE Flights USING INDEX idx1 (actual_time&lt;?)</td>\n",
              "    </tr>\n",
              "    <tr>\n",
              "        <td>0</td>\n",
              "        <td>0</td>\n",
              "        <td>0</td>\n",
              "        <td>USE TEMP B-TREE FOR DISTINCT</td>\n",
              "    </tr>\n",
              "</table>"
            ],
            "text/plain": [
              "[(0, 0, 0, 'SEARCH TABLE Flights USING INDEX idx1 (actual_time<?)'),\n",
              " (0, 0, 0, 'USE TEMP B-TREE FOR DISTINCT')]"
            ]
          },
          "metadata": {
            "tags": []
          },
          "execution_count": 6
        }
      ]
    },
    {
      "cell_type": "markdown",
      "metadata": {
        "id": "YSoB_L14erKJ",
        "colab_type": "text"
      },
      "source": [
        "The index idx1 was used."
      ]
    },
    {
      "cell_type": "code",
      "metadata": {
        "id": "5lGIX6W6RUYT",
        "colab_type": "code",
        "outputId": "37b9f0c8-02fb-44a6-f5b2-a5a0bee4131e",
        "colab": {
          "base_uri": "https://localhost:8080/",
          "height": 114
        }
      },
      "source": [
        "%%sql\n",
        "EXPLAIN QUERY PLAN SELECT DISTINCT carrier_id\n",
        "     FROM Flights\n",
        "     WHERE origin_city = 'Seattle WA' AND actual_time <= 30"
      ],
      "execution_count": 7,
      "outputs": [
        {
          "output_type": "stream",
          "text": [
            " * sqlite:///flight.db\n",
            "Done.\n"
          ],
          "name": "stdout"
        },
        {
          "output_type": "execute_result",
          "data": {
            "text/html": [
              "<table>\n",
              "    <tr>\n",
              "        <th>selectid</th>\n",
              "        <th>order</th>\n",
              "        <th>from</th>\n",
              "        <th>detail</th>\n",
              "    </tr>\n",
              "    <tr>\n",
              "        <td>0</td>\n",
              "        <td>0</td>\n",
              "        <td>0</td>\n",
              "        <td>SEARCH TABLE Flights USING INDEX idx1 (actual_time&lt;?)</td>\n",
              "    </tr>\n",
              "    <tr>\n",
              "        <td>0</td>\n",
              "        <td>0</td>\n",
              "        <td>0</td>\n",
              "        <td>USE TEMP B-TREE FOR DISTINCT</td>\n",
              "    </tr>\n",
              "</table>"
            ],
            "text/plain": [
              "[(0, 0, 0, 'SEARCH TABLE Flights USING INDEX idx1 (actual_time<?)'),\n",
              " (0, 0, 0, 'USE TEMP B-TREE FOR DISTINCT')]"
            ]
          },
          "metadata": {
            "tags": []
          },
          "execution_count": 7
        }
      ]
    },
    {
      "cell_type": "markdown",
      "metadata": {
        "id": "ahtnMGrdesJx",
        "colab_type": "text"
      },
      "source": [
        "The index idx1 was used."
      ]
    },
    {
      "cell_type": "markdown",
      "metadata": {
        "id": "AE1HcW7ztaFa",
        "colab_type": "text"
      },
      "source": [
        "Now, consider this query:\n",
        "\n",
        "```sqlite\n",
        "(d) SELECT DISTINCT F2.origin_city\n",
        "     FROM Flights F1, Flights F2\n",
        "     WHERE F1.dest_city = F2.dest_city\n",
        "         AND F1.origin_city='Gunnison CO'\n",
        "         AND F1.actual_time <= 30;\n",
        "```"
      ]
    },
    {
      "cell_type": "markdown",
      "metadata": {
        "id": "9kg5KLyBtaFb",
        "colab_type": "text"
      },
      "source": [
        "Q1.5. (2 points) Choose one simple index (index on one attribute), different from the index for the question above, that is likely to speed up this query. Write down the `CREATE INDEX` statement."
      ]
    },
    {
      "cell_type": "code",
      "metadata": {
        "id": "ToJTOGIXtaFb",
        "colab_type": "code",
        "outputId": "e3867932-8014-455a-cd6f-bd7ff40f3e31",
        "colab": {
          "base_uri": "https://localhost:8080/",
          "height": 70
        }
      },
      "source": [
        "%%sql\n",
        "CREATE INDEX idx2 on Flights(origin_city)"
      ],
      "execution_count": 8,
      "outputs": [
        {
          "output_type": "stream",
          "text": [
            " * sqlite:///flight.db\n",
            "Done.\n"
          ],
          "name": "stdout"
        },
        {
          "output_type": "execute_result",
          "data": {
            "text/plain": [
              "[]"
            ]
          },
          "metadata": {
            "tags": []
          },
          "execution_count": 8
        }
      ]
    },
    {
      "cell_type": "markdown",
      "metadata": {
        "id": "rt4GNd4qtaFe",
        "colab_type": "text"
      },
      "source": [
        "Check whether the FLIGHTS table has this second index that you indicate above. If not, add this index to the FLIGHTS table. "
      ]
    },
    {
      "cell_type": "code",
      "metadata": {
        "id": "d8n2NcSafNVl",
        "colab_type": "code",
        "outputId": "2ce17ecb-0464-44ba-e903-68912dfd0d4e",
        "colab": {
          "base_uri": "https://localhost:8080/",
          "height": 114
        }
      },
      "source": [
        "%%sql\n",
        "SELECT * FROM Flights INDEXED BY idx2 WHERE origin_city = \"Seattle WA\" AND actual_time <= 35"
      ],
      "execution_count": 9,
      "outputs": [
        {
          "output_type": "stream",
          "text": [
            " * sqlite:///flight.db\n",
            "Done.\n"
          ],
          "name": "stdout"
        },
        {
          "output_type": "execute_result",
          "data": {
            "text/html": [
              "<table>\n",
              "    <tr>\n",
              "        <th>fid</th>\n",
              "        <th>year</th>\n",
              "        <th>month_id</th>\n",
              "        <th>day_of_month</th>\n",
              "        <th>day_of_week_id</th>\n",
              "        <th>carrier_id</th>\n",
              "        <th>flight_num</th>\n",
              "        <th>origin_city</th>\n",
              "        <th>origin_state</th>\n",
              "        <th>dest_city</th>\n",
              "        <th>dest_state</th>\n",
              "        <th>departure_delay</th>\n",
              "        <th>taxi_out</th>\n",
              "        <th>arrival_delay</th>\n",
              "        <th>canceled</th>\n",
              "        <th>actual_time</th>\n",
              "        <th>distance</th>\n",
              "    </tr>\n",
              "    <tr>\n",
              "        <td>555195</td>\n",
              "        <td>2005</td>\n",
              "        <td>7</td>\n",
              "        <td>6</td>\n",
              "        <td>3</td>\n",
              "        <td>WN</td>\n",
              "        <td>1216</td>\n",
              "        <td>Seattle WA</td>\n",
              "        <td>Washington</td>\n",
              "        <td>Spokane WA</td>\n",
              "        <td>Washington</td>\n",
              "        <td>10.0</td>\n",
              "        <td>5.0</td>\n",
              "        <td>-10.0</td>\n",
              "        <td>0</td>\n",
              "        <td>35.0</td>\n",
              "        <td>224.0</td>\n",
              "    </tr>\n",
              "    <tr>\n",
              "        <td>610178</td>\n",
              "        <td>2005</td>\n",
              "        <td>7</td>\n",
              "        <td>25</td>\n",
              "        <td>1</td>\n",
              "        <td>WN</td>\n",
              "        <td>1678</td>\n",
              "        <td>Seattle WA</td>\n",
              "        <td>Washington</td>\n",
              "        <td>Spokane WA</td>\n",
              "        <td>Washington</td>\n",
              "        <td>0.0</td>\n",
              "        <td>12.0</td>\n",
              "        <td>-22.0</td>\n",
              "        <td>0</td>\n",
              "        <td>33.0</td>\n",
              "        <td>224.0</td>\n",
              "    </tr>\n",
              "</table>"
            ],
            "text/plain": [
              "[(555195, 2005, 7, 6, 3, 'WN', 1216, 'Seattle WA', 'Washington', 'Spokane WA', 'Washington', 10.0, 5.0, -10.0, 0, 35.0, 224.0),\n",
              " (610178, 2005, 7, 25, 1, 'WN', 1678, 'Seattle WA', 'Washington', 'Spokane WA', 'Washington', 0.0, 12.0, -22.0, 0, 33.0, 224.0)]"
            ]
          },
          "metadata": {
            "tags": []
          },
          "execution_count": 9
        }
      ]
    },
    {
      "cell_type": "markdown",
      "metadata": {
        "id": "a6r28F1QtaFf",
        "colab_type": "text"
      },
      "source": [
        "Now we want to know how effective the two indexes are. We compare the runtimes of the queries with and without indexes. \n",
        "\n",
        "**Hint:** Use `timer on` on sqlite3 command line to turn SQL timer on."
      ]
    },
    {
      "cell_type": "markdown",
      "metadata": {
        "id": "U0Xz6iRftaFg",
        "colab_type": "text"
      },
      "source": [
        "Q1.6. (2 points) Execute queries (a) to (d) on the FLIGHTS table that do not have the two indexes. Please record the runtime of each query. "
      ]
    },
    {
      "cell_type": "code",
      "metadata": {
        "id": "JYgJ7QshjSVG",
        "colab_type": "code",
        "outputId": "499638f5-1afd-4389-980f-808e80cffead",
        "colab": {
          "base_uri": "https://localhost:8080/",
          "height": 70
        }
      },
      "source": [
        "%%sql\n",
        "DROP INDEX idx1"
      ],
      "execution_count": 10,
      "outputs": [
        {
          "output_type": "stream",
          "text": [
            " * sqlite:///flight.db\n",
            "Done.\n"
          ],
          "name": "stdout"
        },
        {
          "output_type": "execute_result",
          "data": {
            "text/plain": [
              "[]"
            ]
          },
          "metadata": {
            "tags": []
          },
          "execution_count": 10
        }
      ]
    },
    {
      "cell_type": "code",
      "metadata": {
        "id": "Fq1A0H1VmeSo",
        "colab_type": "code",
        "outputId": "1e7b4385-5564-4c4b-cd5e-366c32b2d05f",
        "colab": {
          "base_uri": "https://localhost:8080/",
          "height": 70
        }
      },
      "source": [
        "%%sql\n",
        "DROP INDEX idx2 "
      ],
      "execution_count": 11,
      "outputs": [
        {
          "output_type": "stream",
          "text": [
            " * sqlite:///flight.db\n",
            "Done.\n"
          ],
          "name": "stdout"
        },
        {
          "output_type": "execute_result",
          "data": {
            "text/plain": [
              "[]"
            ]
          },
          "metadata": {
            "tags": []
          },
          "execution_count": 11
        }
      ]
    },
    {
      "cell_type": "code",
      "metadata": {
        "id": "wEkdgnqDmn1o",
        "colab_type": "code",
        "outputId": "128bf8c6-df1b-4521-a826-19bfdd55cf64",
        "colab": {
          "base_uri": "https://localhost:8080/",
          "height": 350
        }
      },
      "source": [
        "%%time\n",
        "%%sql\n",
        "SELECT DISTINCT carrier_id\n",
        "     FROM Flights\n",
        "     WHERE origin_city = 'Seattle WA' AND actual_time <= 180"
      ],
      "execution_count": 12,
      "outputs": [
        {
          "output_type": "stream",
          "text": [
            " * sqlite:///flight.db\n",
            "Done.\n",
            "CPU times: user 102 ms, sys: 21.9 ms, total: 124 ms\n",
            "Wall time: 124 ms\n"
          ],
          "name": "stdout"
        },
        {
          "output_type": "execute_result",
          "data": {
            "text/html": [
              "<table>\n",
              "    <tr>\n",
              "        <th>carrier_id</th>\n",
              "    </tr>\n",
              "    <tr>\n",
              "        <td>AS</td>\n",
              "    </tr>\n",
              "    <tr>\n",
              "        <td>DL</td>\n",
              "    </tr>\n",
              "    <tr>\n",
              "        <td>EV</td>\n",
              "    </tr>\n",
              "    <tr>\n",
              "        <td>F9</td>\n",
              "    </tr>\n",
              "    <tr>\n",
              "        <td>HP</td>\n",
              "    </tr>\n",
              "    <tr>\n",
              "        <td>NW</td>\n",
              "    </tr>\n",
              "    <tr>\n",
              "        <td>OO</td>\n",
              "    </tr>\n",
              "    <tr>\n",
              "        <td>UA</td>\n",
              "    </tr>\n",
              "    <tr>\n",
              "        <td>WN</td>\n",
              "    </tr>\n",
              "    <tr>\n",
              "        <td>AA</td>\n",
              "    </tr>\n",
              "    <tr>\n",
              "        <td>B6</td>\n",
              "    </tr>\n",
              "    <tr>\n",
              "        <td>VX</td>\n",
              "    </tr>\n",
              "</table>"
            ],
            "text/plain": [
              "[('AS',),\n",
              " ('DL',),\n",
              " ('EV',),\n",
              " ('F9',),\n",
              " ('HP',),\n",
              " ('NW',),\n",
              " ('OO',),\n",
              " ('UA',),\n",
              " ('WN',),\n",
              " ('AA',),\n",
              " ('B6',),\n",
              " ('VX',)]"
            ]
          },
          "metadata": {
            "tags": []
          },
          "execution_count": 12
        }
      ]
    },
    {
      "cell_type": "code",
      "metadata": {
        "id": "L7zw7nOOmoqA",
        "colab_type": "code",
        "outputId": "7f0227c7-ca8f-4eba-c962-52319d5cd6d0",
        "colab": {
          "base_uri": "https://localhost:8080/",
          "height": 130
        }
      },
      "source": [
        "%%time\n",
        "%%sql\n",
        "SELECT DISTINCT carrier_id\n",
        "     FROM Flights\n",
        "     WHERE origin_city = 'Gunnison CO' AND actual_time <= 180"
      ],
      "execution_count": 13,
      "outputs": [
        {
          "output_type": "stream",
          "text": [
            " * sqlite:///flight.db\n",
            "Done.\n",
            "CPU times: user 113 ms, sys: 25.7 ms, total: 138 ms\n",
            "Wall time: 139 ms\n"
          ],
          "name": "stdout"
        },
        {
          "output_type": "execute_result",
          "data": {
            "text/html": [
              "<table>\n",
              "    <tr>\n",
              "        <th>carrier_id</th>\n",
              "    </tr>\n",
              "    <tr>\n",
              "        <td>OO</td>\n",
              "    </tr>\n",
              "</table>"
            ],
            "text/plain": [
              "[('OO',)]"
            ]
          },
          "metadata": {
            "tags": []
          },
          "execution_count": 13
        }
      ]
    },
    {
      "cell_type": "code",
      "metadata": {
        "id": "RyucSiCpmqvR",
        "colab_type": "code",
        "outputId": "14e5ded3-7595-4903-d1b5-9141a1b0794b",
        "colab": {
          "base_uri": "https://localhost:8080/",
          "height": 110
        }
      },
      "source": [
        "%%time\n",
        "%%sql\n",
        "SELECT DISTINCT carrier_id\n",
        "     FROM Flights\n",
        "     WHERE origin_city = 'Seattle WA' AND actual_time <= 30"
      ],
      "execution_count": 14,
      "outputs": [
        {
          "output_type": "stream",
          "text": [
            " * sqlite:///flight.db\n",
            "Done.\n",
            "CPU times: user 130 ms, sys: 27 ms, total: 157 ms\n",
            "Wall time: 156 ms\n"
          ],
          "name": "stdout"
        },
        {
          "output_type": "execute_result",
          "data": {
            "text/html": [
              "<table>\n",
              "    <tr>\n",
              "        <th>carrier_id</th>\n",
              "    </tr>\n",
              "</table>"
            ],
            "text/plain": [
              "[]"
            ]
          },
          "metadata": {
            "tags": []
          },
          "execution_count": 14
        }
      ]
    },
    {
      "cell_type": "code",
      "metadata": {
        "id": "lnzTELtVmtMD",
        "colab_type": "code",
        "outputId": "2f4ba6d8-ec8c-4d6d-d168-7684f8e6a446",
        "colab": {
          "base_uri": "https://localhost:8080/",
          "height": 110
        }
      },
      "source": [
        "%%time\n",
        "%%sql\n",
        "SELECT DISTINCT F2.origin_city\n",
        "     FROM Flights F1, Flights F2\n",
        "     WHERE F1.dest_city = F2.dest_city\n",
        "         AND F1.origin_city='Gunnison CO'\n",
        "         AND F1.actual_time <= 30"
      ],
      "execution_count": 15,
      "outputs": [
        {
          "output_type": "stream",
          "text": [
            " * sqlite:///flight.db\n",
            "Done.\n",
            "CPU times: user 96.4 ms, sys: 35.2 ms, total: 132 ms\n",
            "Wall time: 131 ms\n"
          ],
          "name": "stdout"
        },
        {
          "output_type": "execute_result",
          "data": {
            "text/html": [
              "<table>\n",
              "    <tr>\n",
              "        <th>origin_city</th>\n",
              "    </tr>\n",
              "</table>"
            ],
            "text/plain": [
              "[]"
            ]
          },
          "metadata": {
            "tags": []
          },
          "execution_count": 15
        }
      ]
    },
    {
      "cell_type": "markdown",
      "metadata": {
        "id": "QQ5-e10OtaFh",
        "colab_type": "text"
      },
      "source": [
        "Q1.7. (2 points) Execute queries (a) to (d) on the FLIGHTS table that has the two indexes. Please record the runtime of each query. "
      ]
    },
    {
      "cell_type": "code",
      "metadata": {
        "id": "8QS8vD8pkKVJ",
        "colab_type": "code",
        "outputId": "eaeb2c6e-7233-4fab-add0-51a47b3891c3",
        "colab": {
          "base_uri": "https://localhost:8080/",
          "height": 70
        }
      },
      "source": [
        "%%sql\n",
        "CREATE INDEX idx1 on Flights(actual_time)\n"
      ],
      "execution_count": 16,
      "outputs": [
        {
          "output_type": "stream",
          "text": [
            " * sqlite:///flight.db\n",
            "Done.\n"
          ],
          "name": "stdout"
        },
        {
          "output_type": "execute_result",
          "data": {
            "text/plain": [
              "[]"
            ]
          },
          "metadata": {
            "tags": []
          },
          "execution_count": 16
        }
      ]
    },
    {
      "cell_type": "code",
      "metadata": {
        "id": "ktNNaC1JmiRI",
        "colab_type": "code",
        "outputId": "e60b3d33-c7db-4439-9131-c676528ce462",
        "colab": {
          "base_uri": "https://localhost:8080/",
          "height": 70
        }
      },
      "source": [
        "%%sql\n",
        "CREATE INDEX idx2 on Flights(origin_city)"
      ],
      "execution_count": 17,
      "outputs": [
        {
          "output_type": "stream",
          "text": [
            " * sqlite:///flight.db\n",
            "Done.\n"
          ],
          "name": "stdout"
        },
        {
          "output_type": "execute_result",
          "data": {
            "text/plain": [
              "[]"
            ]
          },
          "metadata": {
            "tags": []
          },
          "execution_count": 17
        }
      ]
    },
    {
      "cell_type": "code",
      "metadata": {
        "id": "B5UzIEic0p2u",
        "colab_type": "code",
        "outputId": "c293bb4c-8add-4801-a338-621b09d9575f",
        "colab": {
          "base_uri": "https://localhost:8080/",
          "height": 350
        }
      },
      "source": [
        "%%time\n",
        "%%sql\n",
        "SELECT DISTINCT carrier_id\n",
        "     FROM Flights\n",
        "     WHERE origin_city = 'Seattle WA' AND actual_time <= 180"
      ],
      "execution_count": 18,
      "outputs": [
        {
          "output_type": "stream",
          "text": [
            " * sqlite:///flight.db\n",
            "Done.\n",
            "CPU times: user 12.9 ms, sys: 7.02 ms, total: 20 ms\n",
            "Wall time: 20.7 ms\n"
          ],
          "name": "stdout"
        },
        {
          "output_type": "execute_result",
          "data": {
            "text/html": [
              "<table>\n",
              "    <tr>\n",
              "        <th>carrier_id</th>\n",
              "    </tr>\n",
              "    <tr>\n",
              "        <td>AS</td>\n",
              "    </tr>\n",
              "    <tr>\n",
              "        <td>DL</td>\n",
              "    </tr>\n",
              "    <tr>\n",
              "        <td>EV</td>\n",
              "    </tr>\n",
              "    <tr>\n",
              "        <td>F9</td>\n",
              "    </tr>\n",
              "    <tr>\n",
              "        <td>HP</td>\n",
              "    </tr>\n",
              "    <tr>\n",
              "        <td>NW</td>\n",
              "    </tr>\n",
              "    <tr>\n",
              "        <td>OO</td>\n",
              "    </tr>\n",
              "    <tr>\n",
              "        <td>UA</td>\n",
              "    </tr>\n",
              "    <tr>\n",
              "        <td>WN</td>\n",
              "    </tr>\n",
              "    <tr>\n",
              "        <td>AA</td>\n",
              "    </tr>\n",
              "    <tr>\n",
              "        <td>B6</td>\n",
              "    </tr>\n",
              "    <tr>\n",
              "        <td>VX</td>\n",
              "    </tr>\n",
              "</table>"
            ],
            "text/plain": [
              "[('AS',),\n",
              " ('DL',),\n",
              " ('EV',),\n",
              " ('F9',),\n",
              " ('HP',),\n",
              " ('NW',),\n",
              " ('OO',),\n",
              " ('UA',),\n",
              " ('WN',),\n",
              " ('AA',),\n",
              " ('B6',),\n",
              " ('VX',)]"
            ]
          },
          "metadata": {
            "tags": []
          },
          "execution_count": 18
        }
      ]
    },
    {
      "cell_type": "code",
      "metadata": {
        "id": "GzLs5_pChtdG",
        "colab_type": "code",
        "outputId": "3f47e0c6-b4a9-4847-a085-1c4ea04b3e87",
        "colab": {
          "base_uri": "https://localhost:8080/",
          "height": 130
        }
      },
      "source": [
        "%%time\n",
        "%%sql\n",
        "SELECT DISTINCT carrier_id\n",
        "     FROM Flights\n",
        "     WHERE origin_city = 'Gunnison CO' AND actual_time <= 180"
      ],
      "execution_count": 19,
      "outputs": [
        {
          "output_type": "stream",
          "text": [
            " * sqlite:///flight.db\n",
            "Done.\n",
            "CPU times: user 1.93 ms, sys: 0 ns, total: 1.93 ms\n",
            "Wall time: 2.11 ms\n"
          ],
          "name": "stdout"
        },
        {
          "output_type": "execute_result",
          "data": {
            "text/html": [
              "<table>\n",
              "    <tr>\n",
              "        <th>carrier_id</th>\n",
              "    </tr>\n",
              "    <tr>\n",
              "        <td>OO</td>\n",
              "    </tr>\n",
              "</table>"
            ],
            "text/plain": [
              "[('OO',)]"
            ]
          },
          "metadata": {
            "tags": []
          },
          "execution_count": 19
        }
      ]
    },
    {
      "cell_type": "code",
      "metadata": {
        "id": "ayB3057kh0cF",
        "colab_type": "code",
        "outputId": "4c9d1703-b651-4702-b12a-fb3c2569e75b",
        "colab": {
          "base_uri": "https://localhost:8080/",
          "height": 110
        }
      },
      "source": [
        "%%time\n",
        "%%sql\n",
        "SELECT DISTINCT carrier_id\n",
        "     FROM Flights\n",
        "     WHERE origin_city = 'Seattle WA' AND actual_time <= 30"
      ],
      "execution_count": 20,
      "outputs": [
        {
          "output_type": "stream",
          "text": [
            " * sqlite:///flight.db\n",
            "Done.\n",
            "CPU times: user 11.7 ms, sys: 10.2 ms, total: 21.9 ms\n",
            "Wall time: 23.9 ms\n"
          ],
          "name": "stdout"
        },
        {
          "output_type": "execute_result",
          "data": {
            "text/html": [
              "<table>\n",
              "    <tr>\n",
              "        <th>carrier_id</th>\n",
              "    </tr>\n",
              "</table>"
            ],
            "text/plain": [
              "[]"
            ]
          },
          "metadata": {
            "tags": []
          },
          "execution_count": 20
        }
      ]
    },
    {
      "cell_type": "code",
      "metadata": {
        "id": "vRJnzSgsh2AS",
        "colab_type": "code",
        "outputId": "f9ebe404-0499-4dfc-c603-94ad1b7431d6",
        "colab": {
          "base_uri": "https://localhost:8080/",
          "height": 110
        }
      },
      "source": [
        "%%time\n",
        "%%sql\n",
        "SELECT DISTINCT F2.origin_city\n",
        "     FROM Flights F1, Flights F2\n",
        "     WHERE F1.dest_city = F2.dest_city\n",
        "         AND F1.origin_city='Gunnison CO'\n",
        "         AND F1.actual_time <= 30"
      ],
      "execution_count": 21,
      "outputs": [
        {
          "output_type": "stream",
          "text": [
            " * sqlite:///flight.db\n",
            "Done.\n",
            "CPU times: user 11.5 s, sys: 337 ms, total: 11.8 s\n",
            "Wall time: 11.8 s\n"
          ],
          "name": "stdout"
        },
        {
          "output_type": "execute_result",
          "data": {
            "text/html": [
              "<table>\n",
              "    <tr>\n",
              "        <th>origin_city</th>\n",
              "    </tr>\n",
              "</table>"
            ],
            "text/plain": [
              "[]"
            ]
          },
          "metadata": {
            "tags": []
          },
          "execution_count": 21
        }
      ]
    },
    {
      "cell_type": "markdown",
      "metadata": {
        "id": "lSfJooNytaFh",
        "colab_type": "text"
      },
      "source": [
        " -- a)\n",
        "\n",
        " -- Before Index: 124ms\n",
        "\n",
        " -- After Index: 20.7ms\n",
        "\n",
        "\\\\\n",
        " -- b)\n",
        "\n",
        " -- Before Index: 139ms\n",
        "\n",
        " -- After Index: 2.11ms\n",
        "\n",
        "\\\\\n",
        " -- c)\n",
        "\n",
        " -- Before Index: 156ms\n",
        "\n",
        " -- After Index: 23.9ms\n",
        "\n",
        "\\\\\n",
        " -- d)\n",
        "\n",
        " -- Before Index: 131ms\n",
        "\n",
        " -- After Index: 11.8s\n"
      ]
    },
    {
      "cell_type": "markdown",
      "metadata": {
        "id": "lCopnfdVtaFi",
        "colab_type": "text"
      },
      "source": [
        "## Q2 (6 points): B-Trees"
      ]
    },
    {
      "cell_type": "markdown",
      "metadata": {
        "id": "UBfAmKJZtaFj",
        "colab_type": "text"
      },
      "source": [
        "Assume:\n",
        "\n",
        "    (1) blocks can hold either 10 records or 99 keys and 100 pointers\n",
        "    (2) the average B-tree node is 70% full. This means it will have 69 keys and 70 pointers. \n",
        "\n",
        "We can use B-trees as part of several different structures. For each structure described in the questions Q2.1 to Q2.3 below, determine: \n",
        "\n",
        "    (a) the total number of blocks needed for a 1,000,000-record file\n",
        "    (b) the average number of disk I/O’s to retrieve a record given its search key\n",
        "\n",
        "You may assume nothing is in memory initially, and the search key is the primary key for the records."
      ]
    },
    {
      "cell_type": "markdown",
      "metadata": {
        "id": "t16sph9ctaFj",
        "colab_type": "text"
      },
      "source": [
        "**Q2.1. (2 points) The data file is a sequential file, sorted on the search key, with 10 records per block. The B-tree is a dense index.**"
      ]
    },
    {
      "cell_type": "markdown",
      "metadata": {
        "id": "MGFRqo-utaFk",
        "colab_type": "text"
      },
      "source": [
        "a) 114,494 blocks = 100,000 (= 1,000,000/10, for data; @ lowest level) + 14,286 (= 1,000,000/70 @ leaf level) + 204 (= 14,286/70 @ pre-leaf level) + 3 (= 204/70 @ second level) + 1 (the root)\n",
        "\n",
        "b) Since there are four levels to scan B-tree, we must make a total of five disk reads to go through the B-tree to the desired data block. "
      ]
    },
    {
      "cell_type": "markdown",
      "metadata": {
        "id": "sgRKjnK5taFk",
        "colab_type": "text"
      },
      "source": [
        "**Q2.2. (2 points) The data file is a sequential file, sorted on the search key, with 10 records per block. The B-tree is a sparse index.**"
      ]
    },
    {
      "cell_type": "markdown",
      "metadata": {
        "id": "uDFZgAN9taFl",
        "colab_type": "text"
      },
      "source": [
        "a) 101,450 blocks = 100,000 (= 1,000,000/10, for data; @ lowest level) + 1,429 (= 100,000/70 @ leaf level) + 20 (= 1,429/70 @ second level) + 1 (the root)\n",
        "\n",
        "\\\\\n",
        "\n",
        "b) 4"
      ]
    },
    {
      "cell_type": "markdown",
      "metadata": {
        "id": "7RsfEpGAtaFl",
        "colab_type": "text"
      },
      "source": [
        "**Q2.3. (2 points) The data file consists of records in no particular order, packed 10 to a block. The B-tree is a dense index.**"
      ]
    },
    {
      "cell_type": "markdown",
      "metadata": {
        "id": "d6Z7HOAQtaFm",
        "colab_type": "text"
      },
      "source": [
        "a) 144,929 blocks = 142,857 (= 1,000,000/7, for data; @ leaf level) + 2,041 (= 142,857/70, @ pre-leaf level) + 30 (= 2,041/70 @ second level) + 1 (the root)\n",
        "\n",
        "\\\\\n",
        "b) 4"
      ]
    },
    {
      "cell_type": "markdown",
      "metadata": {
        "id": "a6QxERLXtaFp",
        "colab_type": "text"
      },
      "source": [
        "## Q3 (9 points): Query Processing\n",
        "\n",
        "> Indented block\n",
        "\n"
      ]
    },
    {
      "cell_type": "markdown",
      "metadata": {
        "id": "rh1nQ5eetaFp",
        "colab_type": "text"
      },
      "source": [
        "In the first assignment, given the bank database below:\n",
        "\n",
        " - Customer = {<span style=\"text-decoration:underline\">customerID</span>, firstName, lastName, income, birthDate}\n",
        " - Account = {<span style=\"text-decoration:underline\">accNumber</span>, type, balance, branchNumber<sup>FK-Branch</sup>}\n",
        " - Owns = {<span style=\"text-decoration:underline\">customerID</span><sup>FK-Customer</sup>, <span style=\"text-decoration:underline\">accNumber</span><sup>FK-Account</sup>}\n",
        " - Transactions = {<span style=\"text-decoration:underline\">transNumber</span>, <span style=\"text-decoration:underline\">accNumber</span><sup>FK-Account</sup>, amount}\n",
        " - Employee = {<span style=\"text-decoration:underline\">sin</span>, firstName, lastName, salary, branchNumber<sup>FK-Branch</sup>}\n",
        " - Branch = {<span style=\"text-decoration:underline\">branchNumber</span>, branchName, managerSIN<sup>FK-Employee</sup>, budget}\n",
        "\n",
        "you wrote a SQL query to:\n",
        "\n",
        "Show account number, account type, account balance, and transaction amount of the accounts with balance higher than 100,000 and transaction amounts higher than 15000, starting with the accounts with the highest transaction amount and highest account balance. "
      ]
    },
    {
      "cell_type": "markdown",
      "metadata": {
        "id": "QzZIvBn6taFq",
        "colab_type": "text"
      },
      "source": [
        "Q3.1. (3 points) Parse your query into a query parse tree."
      ]
    },
    {
      "cell_type": "markdown",
      "metadata": {
        "scrolled": true,
        "id": "2UUgEF21taFq",
        "colab_type": "text"
      },
      "source": [
        "<img src=\"https://drive.google.com/uc?export=view&id=1te8rGZKPJtk-V7zVn_xG0iTixKt_HxkD\" alt=\"ParseTree.png\" style=\"width: 800px;\"/>\n"
      ]
    },
    {
      "cell_type": "markdown",
      "metadata": {
        "id": "mNuqHSTFtaFr",
        "colab_type": "text"
      },
      "source": [
        "Q3.2. (3 points) Convert your parse tree to the equivalent relational algebraic representation (rewrite if necessary)."
      ]
    },
    {
      "cell_type": "markdown",
      "metadata": {
        "id": "DNSSVA6HtaFs",
        "colab_type": "text"
      },
      "source": [
        "<img src=\"https://drive.google.com/uc?export=view&id=1RlXkanDqA0Fi5q6zbPPcSZR1-VTd6dxF\" alt=\"QP.png\" style=\"width: 800px;\"/> "
      ]
    },
    {
      "cell_type": "markdown",
      "metadata": {
        "id": "NfFnUu_ltaFs",
        "colab_type": "text"
      },
      "source": [
        "Q3.3. (3 points) Assume you have a million records in each of the six tables above. If you need, make necessary assumptions about your storage blocks, as well as about charactristics in the bank.db. Can you enumerate the size and cost of the intermediate tables in your query plan?\n",
        "\n",
        "\n"
      ]
    },
    {
      "cell_type": "markdown",
      "metadata": {
        "id": "hWxBhPl_PwnW",
        "colab_type": "text"
      },
      "source": [
        "$\\textbf{Accounts with more than 100,000 balance }$ <br> \n",
        "This is a range query. Size depends on how accounts' balance is distributed.  \n",
        "\n",
        "Assume 10% account's have balance over 100,000.\n",
        "  \n",
        "T(B) = 1M * 10% = 0.1M\n",
        "\n",
        "V(B, accNumber) = 0.1M (Since accNumber is the primary key of Account)\n",
        "\n",
        "\\\\\n",
        "\n",
        "$\\textbf{Transactions amount that is more than 15,000}$ <br> \n",
        "This is a range query. Size depends on how transactions' amount is distributed. \n",
        "\n",
        "Assume 1% transaction's amount over 15,000.\n",
        "  \n",
        "T(A) = 1M * 1% = 0.01M\n",
        "\n",
        "Assume each transaction that is greater than 15,000 and accNumber combination is unique, then V(A, accNumber) =0.01M\n",
        "\n",
        "\\\\\n",
        "\n",
        "$\\textbf{Join Account and Transactions}$ <br> \n",
        "T(U) = T(B  ⋈  A) = T(B)T(A)/ max (V(B, accNumber), V(A, accNumber))\n",
        "  \n",
        "max (V(B, accNumber), V(A, accNumber)) = 0.1M\n",
        "\n",
        "Therefore, T(U) = 0.1*0.01/ 0.1 = 0.01M\n",
        "\n",
        "V(U, accNumber) = 0.01M\n",
        "\n",
        "Final projection will retrieve 4 columns from U\n",
        "\n"
      ]
    },
    {
      "cell_type": "markdown",
      "metadata": {
        "id": "A7xgWMSotaFt",
        "colab_type": "text"
      },
      "source": [
        "## Submission"
      ]
    },
    {
      "cell_type": "markdown",
      "metadata": {
        "id": "feszam5CtaFt",
        "colab_type": "text"
      },
      "source": [
        "Complete the answers to the questions in the [hw4.ipynb](hw4.ipynb) notebook and zip the notebook with additional files that you may have used in a file named HW4.zip, and submit it through Canvas system to your Homework (4) activity."
      ]
    }
  ]
}