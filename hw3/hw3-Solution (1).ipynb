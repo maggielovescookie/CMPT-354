{
 "cells": [
  {
   "cell_type": "markdown",
   "metadata": {},
   "source": [
    "# HW3. Relational Algebra and Database Design"
   ]
  },
  {
   "cell_type": "markdown",
   "metadata": {},
   "source": [
    "## Objectives"
   ]
  },
  {
   "cell_type": "markdown",
   "metadata": {},
   "source": [
    "In this assignment, you will practice some theory and also write more SQL queries. \n",
    " - How to use `Relational Algebra` to describe the SQL queries you have previously written\n",
    " - How to use `Entity Relationship Model` to design a database and translate it to sql queries for creating tables\n",
    " - How to use `Design Theory` to refine a database you have designed\n",
    " - How to use `Constriants & Triggers` to make sure consistency of your data"
   ]
  },
  {
   "cell_type": "markdown",
   "metadata": {},
   "source": [
    "## Q1 (5 points): Relational Algebra"
   ]
  },
  {
   "cell_type": "markdown",
   "metadata": {},
   "source": [
    "### Preparation "
   ]
  },
  {
   "cell_type": "markdown",
   "metadata": {},
   "source": [
    "To write a relational algebra query in a cell, the cell should be a [Markdown cell](https://jupyter-notebook.readthedocs.io/en/stable/examples/Notebook/Working%20With%20Markdown%20Cells.html). You can use [LaTeX equations](https://jupyter-notebook.readthedocs.io/en/stable/examples/Notebook/Working%20With%20Markdown%20Cells.html#LaTeX-equations) in a markdown cell for required algebraic notation. Here is a list of the main operators:\n",
    "\n",
    "* Selection ($\\sigma$)\n",
    "* Projection ($\\pi$)\n",
    "* Union ($\\cup$)\n",
    "* Intersect ($\\cap$)\n",
    "* Set Difference ($-$) \n",
    "* Cross Product ($\\times$)\n",
    "* Rename ($\\rho$)\n",
    "* Join ($\\bowtie$)\n",
    "* Conjunction ($\\wedge$)\n",
    "* Disconjunction ($\\vee$)\n",
    "* Greater Than or Equal To ($\\geq$)\n",
    "* Less Than or Equal To ($\\leq$)\n",
    "\n",
    "You may also need $_{Subscript}$ and $^{Superscript}$ in the notations you use.\n",
    "\n",
    "Consider the same bank database you have used in previous homework assignments.\n",
    " - Customer = {<span style=\"text-decoration:underline\">customerID</span>, firstName, lastName, income, birthDate}\n",
    " - Account = {<span style=\"text-decoration:underline\">accNumber</span>, type, balance, branchNumber<sup>FK-Branch</sup>}\n",
    " - Owns = {<span style=\"text-decoration:underline\">customerID</span><sup>FK-Customer</sup>, <span style=\"text-decoration:underline\">accNumber</span><sup>FK-Account</sup>}\n",
    " - Transactions = {<span style=\"text-decoration:underline\">transNumber</span>, <span style=\"text-decoration:underline\">accNumber</span><sup>FK-Account</sup>, amount}\n",
    " - Employee = {<span style=\"text-decoration:underline\">sin</span>, firstName, lastName, salary, branchNumber<sup>FK-Branch</sup>}\n",
    " - Branch = {<span style=\"text-decoration:underline\">branchNumber</span>, branchName, managerSIN<sup>FK-Employee</sup>, budget}\n",
    " "
   ]
  },
  {
   "cell_type": "markdown",
   "metadata": {},
   "source": [
    "In this assignment, we want you to write down the relational algebraic presentations for the queries you have previously written to extract data from the bank database."
   ]
  },
  {
   "cell_type": "markdown",
   "metadata": {},
   "source": [
    "1.1 (1 point) Find out names of the bank branches and first name and last name of their managers."
   ]
  },
  {
   "cell_type": "markdown",
   "metadata": {},
   "source": [
    "**Solution:** $\\pi_{branchname, firstName, lastName}(\\sigma_{sin=managerSin}(Brnach \\bowtie Employee))$"
   ]
  },
  {
   "cell_type": "markdown",
   "metadata": {},
   "source": [
    "1.2 (1 point) Show account number, account type, account balance, and transaction amount of the accounts with balance higher than 100,000 and transaction amounts higher than 15000."
   ]
  },
  {
   "cell_type": "markdown",
   "metadata": {},
   "source": [
    "**Solution:**\n",
    "$\n",
    "\t\\pi_{\\text{t.accNumber, a.type, a.balance, t.amount}}\n",
    "\t\\left(\n",
    "\t\t\\sigma_{\n",
    "\t\t\t\\text{a.balance} > 100,000\n",
    "\t\t\t\t\\text{ AND }\n",
    "\t\t\t\\text{t.amount} > 15,000\n",
    "\t\t}\n",
    "\t\t\\left(\n",
    "\t\t\tTransactions \\; t\n",
    "\t\t\t\t\\bowtie_{\\text{t.accNumber = a.accNumber}}\n",
    "\t\t\tAccount \\; a\n",
    "\t\t\\right)\n",
    "\t\\right)\n",
    "$"
   ]
  },
  {
   "cell_type": "markdown",
   "metadata": {},
   "source": [
    "1.3 (1 point) Show first name, last name, and income of customers whose income is at least twice the income of any customer whose lastName is Butler. "
   ]
  },
  {
   "cell_type": "markdown",
   "metadata": {},
   "source": [
    "**Solution:**\n",
    "$  \\pi_{c.firstName, c.lastName, c.income}\n",
    "    (Customer \\; c \n",
    "        \\bowtie_{c.income >= t.maxIncome}\n",
    "        (\\rho_{maxIncome}(\n",
    "        \\pi_{\\text{MAX(income*2)}}\n",
    "        (\n",
    "            \\sigma_\\text{lastName='Butler'}\n",
    "            (Customer)\n",
    "        )\n",
    "    )    \\; t)\n",
    "    )\n",
    "$"
   ]
  },
  {
   "cell_type": "markdown",
   "metadata": {},
   "source": [
    "1.4 (2 points) Show Customer ID, income, account numbers and branch numbers of customers with income greater than 90,000 who own an account at both London and Latveria branches."
   ]
  },
  {
   "cell_type": "markdown",
   "metadata": {},
   "source": [
    "**Solution:**\n",
    "$\n",
    "\\pi_{c.customerId, c.income, t1.accNumber, t1.branchNumber}(\\text{temp1} \\; t1\n",
    "\\bowtie_{t1.customerId=c.customerId}(\\sigma_{c.income >= 90,000} (Customer \\; c)))\n",
    "$\n",
    "\n",
    "$ \\text{temp1} =\n",
    "(\n",
    "\\sigma_{\\text{b.branchName = 'London'}\n",
    "\t\t\t}\n",
    "\t\t\t\\left(\n",
    "\t\t\t\tOwns \\; o \\bowtie_\\text{o.accNumber = a.accNumber}(\n",
    "\t\t\t\tAccount \\; a  \\bowtie_\\text{a.branchNumber = b.branchNumber}\n",
    "\t\t\t\t(Branch \\; b\n",
    "\t\t\t\\right))))\n",
    "\t\t\t\t\\cap (\n",
    "\t\t\t\\sigma_{\\text{b.branchName = 'Latveria'}\n",
    "\t\t\t}\n",
    "\t\t\t\\left(\n",
    "\t\t\t\tOwns \\; o \\bowtie_\\text{o.accNumber = a.accNumber}(\n",
    "\t\t\t\tAccount \\; a  \\bowtie_\\text{a.branchNumber = b.branchNumber}\n",
    "\t\t\t\t(Branch \\; b\n",
    "\t\t\t\\right))))\n",
    "$"
   ]
  },
  {
   "cell_type": "markdown",
   "metadata": {},
   "source": [
    "## Q2 (5 points): DB Design"
   ]
  },
  {
   "cell_type": "markdown",
   "metadata": {},
   "source": [
    "You want to build a music database with the following charactristics:\n",
    " - An **artist** is known by their name. An artist should have a genre. We also keep an artist's hometown, bio, and homepage in the database.\n",
    " - An **album** is by one artists. It is produced by a recording company.\n",
    " - An album is known by its name. We also keep year, number of tracks (at least one), and the reconding studio for an album.\n",
    " - An album has songs on the album. \n",
    " - A **recording company** is known by its name. We also keep address, homepage, and telelphone number for a recording company.\n",
    " - A **song** is known by its name, name of its artist, and the album it is part of. We also keep length and track number for the album. A song might have guest musicians. A song may have a tablature.\n",
    " - A **tablature** is known by the URL. We keep data, transcriber, and transciber email for a tablature.\n",
    " - A **musician** is known by their name. A musician should have an instrument. We also keep hometone for a musician.\n",
    " - Musicians and an artist can be in a group.\n",
    " - An artist might influence a musician.\n",
    " \n",
    " Design the ERM to capture this database. Please note that you do not need to submit your ERM design, but you need to use it for the following set of questions in **Q2** to **Q4**."
   ]
  },
  {
   "cell_type": "markdown",
   "metadata": {},
   "source": [
    "List your schemas (not create table statements)."
   ]
  },
  {
   "cell_type": "markdown",
   "metadata": {},
   "source": [
    "- Album(<span style=\"text-decoration:underline\">groupName</span>, <span style=\"text-decoration:underline\">albumName</span>, year, numTracks, recordingStudio)\n",
    "- Artist(<span style=\"text-decoration:underline\">name</span>, genre, homepage, hometown, bio)\n",
    "- Musician(<span style=\"text-decoration:underline\">name</span>, instrument, hometown)\n",
    "- RecordCompany(<span style=\"text-decoration:underline\">name</span>, address, homepage, phone)\n",
    "- Song(<span style=\"text-decoration:underline\">groupName</span>, <span style=\"text-decoration:underline\">songName</span>, length, trackNo)\n",
    "- Tablature(<span style=\"text-decoration:underline\">url</span>, transcriber, transcriberEmail, date)\n",
    "- GuestArtist(<span style=\"text-decoration:underline\">songName</span>, <span style=\"text-decoration:underline\">groupName</span>, <span style=\"text-decoration:underline\">musicianName</span>)\n",
    "- InGroup(<span style=\"text-decoration:underline\">groupName</span>, <span style=\"text-decoration:underline\">musicianName</span>)\n",
    "- Influences(<span style=\"text-decoration:underline\">groupName</span>, <span style=\"text-decoration:underline\">musicianName</span>)\n",
    "- OnAlbum(<span style=\"text-decoration:underline\">groupName</span>, <span style=\"text-decoration:underline\">songName</span>, <span style=\"text-decoration:underline\">albumName</span>)\n",
    "- ProducedBy(<span style=\"text-decoration:underline\">companyName</span>, <span style=\"text-decoration:underline\">groupName</span>, <span style=\"text-decoration:underline\">albumName</span>)\n",
    "- TabFor(<span style=\"text-decoration:underline\">url</span>, groupName, songName)"
   ]
  },
  {
   "cell_type": "markdown",
   "metadata": {},
   "source": [
    "## Q3 (5 points): Functional Dependencies & BCNF"
   ]
  },
  {
   "cell_type": "markdown",
   "metadata": {},
   "source": [
    "List the functional dependencies in your design, ensuring your database is in BCNF."
   ]
  },
  {
   "cell_type": "markdown",
   "metadata": {},
   "source": [
    "- in Group: name -> genre\n",
    "- in Album: groupName, albumName -> year, numTracks, recordingStudio\n",
    "- in Song: groupName, songName -> length, trackNo\n",
    "- in Musician: name -> instrument, hometown\n",
    "- in RecordCompany: name -> address, homepage, phone\n",
    "- in Tablature: transcriber -> transcriberEmail; url -> transcriber, date\n",
    "- in TabFor: url -> songName, groupName "
   ]
  },
  {
   "cell_type": "markdown",
   "metadata": {},
   "source": [
    "## Q4 (10 points): Constraints & Triggers"
   ]
  },
  {
   "cell_type": "markdown",
   "metadata": {},
   "source": [
    "List all `CREATE TABLE` statements required to implement the database defined above. Ensure your create statements include all required **constraints and triggers**.\n",
    "\n",
    "Insert as many cells are required for your answer below."
   ]
  },
  {
   "cell_type": "code",
   "execution_count": 3,
   "metadata": {},
   "outputs": [],
   "source": [
    "%load_ext sql"
   ]
  },
  {
   "cell_type": "code",
   "execution_count": 4,
   "metadata": {
    "scrolled": true
   },
   "outputs": [
    {
     "data": {
      "text/plain": [
       "'Connected: @music.db'"
      ]
     },
     "execution_count": 4,
     "metadata": {},
     "output_type": "execute_result"
    }
   ],
   "source": [
    "%sql sqlite:///music.db"
   ]
  },
  {
   "cell_type": "code",
   "execution_count": 6,
   "metadata": {},
   "outputs": [
    {
     "name": "stdout",
     "output_type": "stream",
     "text": [
      " * sqlite:///music.db\n",
      "Done.\n",
      "Done.\n",
      "Done.\n",
      "Done.\n",
      "Done.\n",
      "Done.\n",
      "Done.\n",
      "Done.\n",
      "Done.\n",
      "Done.\n",
      "Done.\n",
      "Done.\n",
      "Done.\n"
     ]
    },
    {
     "data": {
      "text/plain": [
       "[]"
      ]
     },
     "execution_count": 6,
     "metadata": {},
     "output_type": "execute_result"
    }
   ],
   "source": [
    "%%sql\n",
    " CREATE TABLE Album (\n",
    "         groupName VARCHAR(255),\n",
    "         albumName VARCHAR(255),\n",
    "         year DATE,\n",
    "         numTracks INTEGER CHECK (numTracks > 0),\n",
    "         recordingStudio VARCHAR(255),\n",
    "         PRIMARY KEY (groupName, albumName)\n",
    ");\n",
    "\n",
    "CREATE TABLE Artist (\n",
    "         name VARCHAR(255) PRIMARY KEY,\n",
    "         genre VARCHAR(255) NOT NULL,\n",
    "         homepage VARCHAR(255) CHECK (homepage LIKE 'http://%'),\n",
    "         hometown VARCHAR(255),\n",
    "         bio VARCHAR(2000)\n",
    ");\n",
    "\n",
    "CREATE TABLE Musician (\n",
    "         name VARCHAR(255) PRIMARY KEY,\n",
    "         instrument VARCHAR(255) NOT NULL,\n",
    "         hometown VARCHAR(255)\n",
    ");\n",
    "\n",
    "CREATE TABLE RecordCompany (\n",
    "         name VARCHAR(255) PRIMARY KEY,\n",
    "         address1 VARCHAR(255),\n",
    "         address2 VARCHAR(255),\n",
    "         city VARCHAR(255),\n",
    "         state CHAR(2),\n",
    "         zipCode CHAR(10),\n",
    "         homepage VARCHAR(255) CHECK (homepage LIKE 'http://%'),\n",
    "         phone VARCHAR(14),\n",
    "         CHECK(address1 IS NOT NULL AND address1 <> address2)\n",
    ");\n",
    "\n",
    "CREATE TABLE Song (\n",
    "         groupName VARCHAR(255),\n",
    "         songName VARCHAR(255),\n",
    "         length INT CHECK (length <= 4440),\n",
    "         trackNo INT,\n",
    "         PRIMARY KEY (groupName, songName),\n",
    "         CHECK (trackNo > 0 AND trackNo < 4400 - length)\n",
    ");\n",
    "\n",
    "CREATE TABLE Transcriber (\n",
    "         name VARCHAR(255) PRIMARY KEY,\n",
    "         email VARCHAR(255) UNIQUE CHECK (email LIKE '%@%')\n",
    ");\n",
    "\n",
    "CREATE TABLE Tablature (\n",
    "         url VARCHAR(255) PRIMARY KEY CHECK (url LIKE 'ftp://%'),\n",
    "         transcriber VARCHAR(255),\n",
    "         modified DATE\n",
    ");\n",
    "\n",
    "CREATE TABLE GuestArtist (\n",
    "         songName VARCHAR(255),\n",
    "         groupName VARCHAR(255),\n",
    "         musicianName VARCHAR(255)\n",
    ");\n",
    "\n",
    "CREATE TABLE InGroup (\n",
    "         groupName VARCHAR(255),\n",
    "         musicianName VARCHAR(255),\n",
    "         PRIMARY KEY (groupName, musicianName)\n",
    ");\n",
    "\n",
    "CREATE TABLE Influences (\n",
    "         musicianName VARCHAR(255),\n",
    "         groupName VARCHAR(255) PRIMARY KEY\n",
    ");\n",
    "\n",
    "CREATE TABLE OnAlbum (\n",
    "         groupName VARCHAR(255),\n",
    "         albumName VARCHAR(255),\n",
    "         songName VARCHAR(255),\n",
    "         PRIMARY KEY (groupName, songName)\n",
    ");\n",
    "\n",
    "CREATE TABLE ProducedBy (\n",
    "         companyName VARCHAR(255),\n",
    "         groupName VARCHAR(255),\n",
    "         albumName VARCHAR(255),\n",
    "         PRIMARY KEY (groupName, albumName)\n",
    ");\n",
    "\n",
    "CREATE TABLE TabFor (\n",
    "         url VARCHAR(255) PRIMARY KEY,\n",
    "         groupName VARCHAR(255),\n",
    "         songName VARCHAR(255)\n",
    "); "
   ]
  },
  {
   "cell_type": "markdown",
   "metadata": {},
   "source": [
    "## Acknowledgement"
   ]
  },
  {
   "cell_type": "markdown",
   "metadata": {},
   "source": [
    "Q2-Q4: Steven van Loben Sels - June 2000 (http://infolab.stanford.edu/~ullman/fcdb/sevls/cs145db.html)"
   ]
  }
 ],
 "metadata": {
  "kernelspec": {
   "display_name": "Python 3",
   "language": "python",
   "name": "python3"
  },
  "language_info": {
   "codemirror_mode": {
    "name": "ipython",
    "version": 3
   },
   "file_extension": ".py",
   "mimetype": "text/x-python",
   "name": "python",
   "nbconvert_exporter": "python",
   "pygments_lexer": "ipython3",
   "version": "3.7.4"
  }
 },
 "nbformat": 4,
 "nbformat_minor": 2
}
