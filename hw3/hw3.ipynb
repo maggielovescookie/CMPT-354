{
  "nbformat": 4,
  "nbformat_minor": 0,
  "metadata": {
    "kernelspec": {
      "display_name": "Python 3",
      "language": "python",
      "name": "python3"
    },
    "language_info": {
      "codemirror_mode": {
        "name": "ipython",
        "version": 3
      },
      "file_extension": ".py",
      "mimetype": "text/x-python",
      "name": "python",
      "nbconvert_exporter": "python",
      "pygments_lexer": "ipython3",
      "version": "3.7.4"
    },
    "colab": {
      "name": "hw3.ipynb",
      "provenance": []
    }
  },
  "cells": [
    {
      "cell_type": "markdown",
      "metadata": {
        "id": "wieXYCXXBgBo",
        "colab_type": "text"
      },
      "source": [
        "# HW3. Relational Algebra and Database Design"
      ]
    },
    {
      "cell_type": "markdown",
      "metadata": {
        "id": "dWVHO-C-BgBr",
        "colab_type": "text"
      },
      "source": [
        "## Objectives"
      ]
    },
    {
      "cell_type": "markdown",
      "metadata": {
        "id": "EO-QRh08BgBt",
        "colab_type": "text"
      },
      "source": [
        "In this assignment, you will review relational algebra and design theory, and also write more SQL queries. You will practice: \n",
        " - How to use `Relational Algebra` to describe the SQL queries you have previously written\n",
        " - How to use `Entity Relationship Model` to design a database and translate it to sql queries for creating tables\n",
        " - How to use `Design Theory` to refine a database you have designed\n",
        " - How to use `Constraints & Triggers` to make sure consistency of your data"
      ]
    },
    {
      "cell_type": "markdown",
      "metadata": {
        "id": "HyluD7KJBgBu",
        "colab_type": "text"
      },
      "source": [
        "## Q1 (5 points): Relational Algebra"
      ]
    },
    {
      "cell_type": "markdown",
      "metadata": {
        "id": "7qtE2Bt2BgBv",
        "colab_type": "text"
      },
      "source": [
        "### Preparation "
      ]
    },
    {
      "cell_type": "markdown",
      "metadata": {
        "id": "diKXl3YQBgBw",
        "colab_type": "text"
      },
      "source": [
        "To write a relational algebra query in a cell, the cell should be a [Markdown cell](https://jupyter-notebook.readthedocs.io/en/stable/examples/Notebook/Working%20With%20Markdown%20Cells.html). You can use [LaTeX equations](https://jupyter-notebook.readthedocs.io/en/stable/examples/Notebook/Working%20With%20Markdown%20Cells.html#LaTeX-equations) in a markdown cell for required algebraic notation. Here is a list of the main operators:\n",
        "\n",
        "* Selection ($\\sigma$)\n",
        "* Projection ($\\pi$)\n",
        "* Union ($\\cup$)\n",
        "* Intersect ($\\cap$)\n",
        "* Set Difference ($-$) \n",
        "* Cross Product ($\\times$)\n",
        "* Rename ($\\rho$)\n",
        "* Join ($\\bowtie$)\n",
        "* Conjunction ($\\wedge$)\n",
        "* Disconjunction ($\\vee$)\n",
        "* Greater Than or Equal To ($\\geq$)\n",
        "* Less Than or Equal To ($\\leq$)\n",
        "\n",
        "You may also need $_{Subscript}$ and $^{Superscript}$ in the notations you use.\n",
        "\n",
        "Consider the same bank database you have used in previous homework assignments.\n",
        " - Customer = {<span style=\"text-decoration:underline\">customerID</span>, firstName, lastName, income, birthDate}\n",
        " - Account = {<span style=\"text-decoration:underline\">accNumber</span>, type, balance, branchNumber<sup>FK-Branch</sup>}\n",
        " - Owns = {<span style=\"text-decoration:underline\">customerID</span><sup>FK-Customer</sup>, <span style=\"text-decoration:underline\">accNumber</span><sup>FK-Account</sup>}\n",
        " - Transactions = {<span style=\"text-decoration:underline\">transNumber</span>, <span style=\"text-decoration:underline\">accNumber</span><sup>FK-Account</sup>, amount}\n",
        " - Employee = {<span style=\"text-decoration:underline\">sin</span>, firstName, lastName, salary, branchNumber<sup>FK-Branch</sup>}\n",
        " - Branch = {<span style=\"text-decoration:underline\">branchNumber</span>, branchName, managerSIN<sup>FK-Employee</sup>, budget}\n",
        " "
      ]
    },
    {
      "cell_type": "markdown",
      "metadata": {
        "id": "Gk-M-CZyBgBx",
        "colab_type": "text"
      },
      "source": [
        "In each question below, please write down the relational algebraic presentations for the described query."
      ]
    },
    {
      "cell_type": "code",
      "metadata": {
        "id": "48omSpRGCXFr",
        "colab_type": "code",
        "outputId": "d9125f99-3bb4-45a3-a946-114b4a73e72a",
        "colab": {
          "base_uri": "https://localhost:8080/",
          "height": 53
        }
      },
      "source": [
        "%load_ext sql"
      ],
      "execution_count": 0,
      "outputs": [
        {
          "output_type": "stream",
          "text": [
            "The sql extension is already loaded. To reload it, use:\n",
            "  %reload_ext sql\n"
          ],
          "name": "stdout"
        }
      ]
    },
    {
      "cell_type": "code",
      "metadata": {
        "id": "i2GlWcVDCZ4d",
        "colab_type": "code",
        "outputId": "f16115be-bf8a-44f4-e4d0-db0a4648f34a",
        "colab": {
          "base_uri": "https://localhost:8080/",
          "height": 35
        }
      },
      "source": [
        "%sql sqlite:///bank1.db"
      ],
      "execution_count": 0,
      "outputs": [
        {
          "output_type": "execute_result",
          "data": {
            "text/plain": [
              "'Connected: @bank1.db'"
            ]
          },
          "metadata": {
            "tags": []
          },
          "execution_count": 22
        }
      ]
    },
    {
      "cell_type": "markdown",
      "metadata": {
        "id": "rBOxJjTgBgBy",
        "colab_type": "text"
      },
      "source": [
        "1.1 (1 point) Find out names of the bank branches and first name and last name of their managers."
      ]
    },
    {
      "cell_type": "markdown",
      "metadata": {
        "id": "lYn-1p1iGuxu",
        "colab_type": "text"
      },
      "source": [
        "$ \\pi_{BranchName, firstName, lastName} ( Branch \\bowtie_{managerSIN=sin} Employee) $\n",
        "\n"
      ]
    },
    {
      "cell_type": "markdown",
      "metadata": {
        "id": "CceYQn3DBgB0",
        "colab_type": "text"
      },
      "source": [
        "1.2 (1 point) Show account number, account type, account balance, and transaction amount of the accounts with balance higher than 100,000 and transaction amounts higher than 15000."
      ]
    },
    {
      "cell_type": "markdown",
      "metadata": {
        "id": "2kTgt16VH8eV",
        "colab_type": "text"
      },
      "source": [
        "$ \\pi_{a.accNumber, a.type, a.balance, t.amount} (\\sigma_{t.amount>=15,000\\: AND \\:a.balance>=100,000}  \\:(Transactions \\: t \\bowtie_{t.accNumber = a.accNumber} Amount \\: a)) $\n"
      ]
    },
    {
      "cell_type": "markdown",
      "metadata": {
        "id": "tXTzBl4HBgB3",
        "colab_type": "text"
      },
      "source": [
        "1.3 (1 point) Show first name, last name, and income of customers whose income is at least twice the income of any customer whose lastName is Butler. "
      ]
    },
    {
      "cell_type": "markdown",
      "metadata": {
        "id": "AV1kjQcrJB1E",
        "colab_type": "text"
      },
      "source": [
        "$temp1 \\; t1 \\leftarrow \\rho_{maxIncome} (\\pi_{MAX(income *2)}(\\sigma_{lastName = 'Butler'}(Customer)))$\n",
        "\\\n",
        "$ \\pi_{c.firstName, c.lastName, c.income} (Customer \\; c \\bowtie_{c.income >= t1.maxIncome} (temp1 \\; t1) ) $\n",
        "\n"
      ]
    },
    {
      "cell_type": "markdown",
      "metadata": {
        "id": "Vq6Ll_MVBgB5",
        "colab_type": "text"
      },
      "source": [
        "1.4 (2 points) Show Customer ID, income, account numbers and branch numbers of customers with income greater than 90,000 who own an account at both London and Latveria branches."
      ]
    },
    {
      "cell_type": "markdown",
      "metadata": {
        "id": "XKY6qzPGLfG8",
        "colab_type": "text"
      },
      "source": [
        "$temp1 \\; t1 \\leftarrow (\\sigma_{b.branchName = 'London'}(Owns\\: o \\bowtie_{o.accNumber = a.accNumber}(Account \\: a \\bowtie_{a.branchName = b.branchName}(Branch b))))\\cap (\\sigma_{b.branchName = 'Latveria'}(Owns\\: o \\bowtie_{o.accNumber = a.accNumber}(Account \\: a \\bowtie_{a.branchName = b.branchName}(Branch b))))$\n",
        "\\\n",
        "\\\n",
        "$ \\pi_{c.customerId, c.income, t1.accNumber, t1.branchNumber}(\\text{temp1} \\; t1 \\bowtie_{t1.customerId=c.customerId}(\\sigma_{c.income >= 90,000} (Customer \\; c))) $\n",
        "\n"
      ]
    },
    {
      "cell_type": "markdown",
      "metadata": {
        "id": "mLY-9rYcBgB7",
        "colab_type": "text"
      },
      "source": [
        "## Q2 (5 points): DB Design"
      ]
    },
    {
      "cell_type": "markdown",
      "metadata": {
        "id": "gOg0jaY-BgB8",
        "colab_type": "text"
      },
      "source": [
        "Imagine we want to build a music database with the following characteristics:\n",
        " - An **artist** is known by their name. We also keep an artist's *genre*, *hometown*, *bio*, and *homepage* in the database.\n",
        " - An **album** has an artist. It is produced by a *recording company*.\n",
        " - An album is known by *name* of the album and the *name* of its artist. We also keep *year*, *number of tracks* (at least one), and the *recording studio* for an album.\n",
        " - An album has songs on the album. \n",
        " - A **recording company** is known by its name. We also keep *address*, *homepage*, and *telephone number* for a *recording company*.\n",
        " - A **song** is known by its *name*, *name* of its artist, and the *album* it is part of. We also keep *length* and *track number* for the song. A song might have *guest musicians*. A song may have a *tablature*.\n",
        " - A **tablature** is known by the *URL*. We keep *date*, *transcriber*, and transcriber *email* for a tablature.\n",
        " - A **musician** is known by their *name*. A musician should have an *instrument*. We also keep *hometown* for a musician.\n",
        " - Musicians and an artist can be in a group.\n",
        " - Artists might influence a musician.\n",
        " \n",
        " Design the ERM to capture this database. Please note that you do not need to submit your ERM design, but you need to use it to answer questions **Q2**, **Q3**, and **Q4**."
      ]
    },
    {
      "cell_type": "markdown",
      "metadata": {
        "id": "RvfxEQdEBgB9",
        "colab_type": "text"
      },
      "source": [
        "Please list your schemas (not create table statements)."
      ]
    },
    {
      "cell_type": "markdown",
      "metadata": {
        "id": "dlO8-eoMBgB_",
        "colab_type": "text"
      },
      "source": [
        "$Artists(\\underline{artistName}, genre, hometown, bio, homepage)$\n",
        "\n",
        "$Albums(\\underline{albumName}, \\underline{artistName^{Artists}}, year, numTracks, recName^{RecordingCompany})$\n",
        "\n",
        "$RecordingCompany(\\underline{recName}, addr, homepage, tel)$\n",
        "\n",
        "$Songs(\\underline{songName}, \\underline{artistName^{Artists}}, \\underline{albumName^{Albums}}, length, trackNum, url^{Tablature})$\n",
        "\n",
        "$Guestmusicians(\\underline{musicianName^{Musicians}}, songName^{Songs}, artistName^{Artists}, albumName^{Albums})$\n",
        "\n",
        "$Tablature(\\underline{url}, date, transcriber, email)$\n",
        "\n",
        "$Musicians(\\underline{musicianName}, instrument, hometown)$\n",
        "\n",
        "$Groups(\\underline{artistName^{Artists}}, musicianName^{Musicians})$\n",
        "\n",
        "$Influence(\\underline{musicianName^{Musicians}}, artistName^{Artists})$\n"
      ]
    },
    {
      "cell_type": "markdown",
      "metadata": {
        "id": "B4LbxdNgBgCA",
        "colab_type": "text"
      },
      "source": [
        "## Q3 (5 points): Functional Dependencies & BCNF"
      ]
    },
    {
      "cell_type": "markdown",
      "metadata": {
        "id": "4uO_xelbBgCB",
        "colab_type": "text"
      },
      "source": [
        "Please list the functional dependencies in your relations, ensuring your relations are in BCNF."
      ]
    },
    {
      "cell_type": "markdown",
      "metadata": {
        "id": "CxF9VPG4BgCD",
        "colab_type": "text"
      },
      "source": [
        "\n",
        "$artistName \\leftarrow genre, hometown, bio, homepage$\n",
        "\n",
        "$albumName, artistName \\leftarrow year, numTracks, recName$\n",
        "\n",
        "$recName \\leftarrow addr, homepage, tel $\n",
        "\n",
        "$songName, artistName, albumName \\leftarrow length, trackNum, url$\n",
        "\n",
        "$musicianName \\leftarrow songName, artistName, albumName$\n",
        "\n",
        "$url \\leftarrow date, transcriber, email$\n",
        "\n",
        "$musicianName \\leftarrow instrument, hometown$\n",
        "\n",
        "$artistName \\leftarrow musicianName$\n",
        "\n",
        "$musicianName \\leftarrow artistName$\n",
        "\n",
        "\n",
        "\n",
        "\n",
        "\n",
        "\n"
      ]
    },
    {
      "cell_type": "markdown",
      "metadata": {
        "id": "neIenYloBgCE",
        "colab_type": "text"
      },
      "source": [
        "## Q4 (10 points): Constraints & Triggers"
      ]
    },
    {
      "cell_type": "markdown",
      "metadata": {
        "id": "htk6cT90BgCF",
        "colab_type": "text"
      },
      "source": [
        "Please use proper `CREATE TABLE` statements required to implement the database described above. Ensure your create statements include all required **constraints and triggers**."
      ]
    },
    {
      "cell_type": "code",
      "metadata": {
        "id": "z0RF7JBpBgCG",
        "colab_type": "code",
        "colab": {}
      },
      "source": [
        "%load_ext sql"
      ],
      "execution_count": 0,
      "outputs": []
    },
    {
      "cell_type": "code",
      "metadata": {
        "scrolled": true,
        "id": "pt1efmNNBgCK",
        "colab_type": "code",
        "colab": {
          "base_uri": "https://localhost:8080/",
          "height": 35
        },
        "outputId": "12810c68-976d-4eff-91ef-62110d69d0b6"
      },
      "source": [
        "%sql sqlite:///music.db"
      ],
      "execution_count": 3,
      "outputs": [
        {
          "output_type": "execute_result",
          "data": {
            "text/plain": [
              "'Connected: @music.db'"
            ]
          },
          "metadata": {
            "tags": []
          },
          "execution_count": 3
        }
      ]
    },
    {
      "cell_type": "code",
      "metadata": {
        "id": "8OBxGSLf6VsG",
        "colab_type": "code",
        "colab": {
          "base_uri": "https://localhost:8080/",
          "height": 213
        },
        "outputId": "168bf107-e1fa-420e-d74a-6b98e1ffd460"
      },
      "source": [
        "%%sql\n",
        "\n",
        "DROP TABLE IF EXISTS Artists;\n",
        "DROP TABLE IF EXISTS Albums;\n",
        "DROP TABLE IF EXISTS RecordingComapany;\n",
        "DROP TABLE IF EXISTS Songs;\n",
        "DROP TABLE IF EXISTS Musicians;\n",
        "DROP TABLE IF EXISTS Tablature;\n",
        "DROP TABLE IF EXISTS Influence;\n",
        "DROP TABLE IF EXISTS GuestMusicians;\n",
        "DROP TABLE IF EXISTS Groups;\n"
      ],
      "execution_count": 19,
      "outputs": [
        {
          "output_type": "stream",
          "text": [
            " * sqlite:///music.db\n",
            "Done.\n",
            "Done.\n",
            "Done.\n",
            "Done.\n",
            "Done.\n",
            "Done.\n",
            "Done.\n",
            "Done.\n",
            "Done.\n"
          ],
          "name": "stdout"
        },
        {
          "output_type": "execute_result",
          "data": {
            "text/plain": [
              "[]"
            ]
          },
          "metadata": {
            "tags": []
          },
          "execution_count": 19
        }
      ]
    },
    {
      "cell_type": "code",
      "metadata": {
        "id": "SZqMr5zcBgCN",
        "colab_type": "code",
        "colab": {
          "base_uri": "https://localhost:8080/",
          "height": 213
        },
        "outputId": "aff77886-4fb7-408a-d1ee-945cccdb9f46"
      },
      "source": [
        "%%sql\n",
        "create table Artists(\n",
        "    artistName TEXT, \n",
        "    genre TEXT,\n",
        "    hometown TEXT,\n",
        "    bio TEXT,\n",
        "    homepage TEXT,\n",
        "    primary key(artistName)\n",
        ");\n",
        "\n",
        "create table Albums(\n",
        "    albumtName TEXT, \n",
        "    artistName TEXT,\n",
        "    year YEAR,\n",
        "    numTracks int,\n",
        "    recName TEXT,\n",
        "    primary key(albumtName, artistName)\n",
        "    foreign key(artistName) references Artistz(artistName)\n",
        "    foreign key(recName) references RecordingComapany(recName)\n",
        "    CHECK (numTracks >= 1 )\n",
        ");\n",
        "\n",
        "create table RecordingComapany(\n",
        "    recName TEXT, \n",
        "    addr TEXT,\n",
        "    homepage TEXT,\n",
        "    tel TEXT,\n",
        "    primary key(recName)\n",
        ");\n",
        "\n",
        "create table Songs(\n",
        "    songName TEXT,\n",
        "    albumtName TEXT, \n",
        "    artistName TEXT,\n",
        "    length TIMESTAMP,\n",
        "    Tracknum int,\n",
        "    url TEXT,\n",
        "    primary key(songName, albumtName, artistName)\n",
        "    foreign key(artistName) references Artistz(artistName)\n",
        "    foreign key(albumtName) references Albumz(albumtName)\n",
        "    foreign key(url) references Tablature(url)\n",
        ");\n",
        "\n",
        "create table GuestMusicians(\n",
        "    musicianName TEXT,\n",
        "    songName TEXT,\n",
        "    albumtName TEXT, \n",
        "    artistName TEXT,\n",
        "    primary key(musicianName)\n",
        "    foreign key(musicianName) references Musicians(musicianName)\n",
        "    foreign key(artistName) references Artists(artistName)\n",
        "    foreign key(albumtName) references Albums(albumtName)\n",
        "    foreign key(songName) references Songs(songName)\n",
        ");\n",
        "\n",
        "create table Tablature(\n",
        "    url TEXT, \n",
        "    date DATE,\n",
        "    transcriber TEXT,\n",
        "    email TEXT,\n",
        "    primary key(url)\n",
        ");\n",
        "\n",
        "create table Musicians(\n",
        "    musicianName TEXT, \n",
        "    instrument TEXT,\n",
        "    hometown TEXT,\n",
        "    primary key(musicianName)\n",
        ");\n",
        "\n",
        "create table Groups(\n",
        "    musicianName TEXT, \n",
        "    artistName TEXT,\n",
        "    primary key(artistName)\n",
        "    foreign key(artistName) references Artists(artistName)\n",
        "    foreign key(musicianName) references Musicians(musicianName)\n",
        "\n",
        ");\n",
        "\n",
        "create table Influence(\n",
        "    musicianName TEXT, \n",
        "    artistName TEXT,\n",
        "    primary key(musicianName)\n",
        "    foreign key(artistName) references Artists(artistName)\n",
        "    foreign key(musicianName) references Musicians(musicianName)\n",
        ");\n",
        "\n"
      ],
      "execution_count": 20,
      "outputs": [
        {
          "output_type": "stream",
          "text": [
            " * sqlite:///music.db\n",
            "Done.\n",
            "Done.\n",
            "Done.\n",
            "Done.\n",
            "Done.\n",
            "Done.\n",
            "Done.\n",
            "Done.\n",
            "Done.\n"
          ],
          "name": "stdout"
        },
        {
          "output_type": "execute_result",
          "data": {
            "text/plain": [
              "[]"
            ]
          },
          "metadata": {
            "tags": []
          },
          "execution_count": 20
        }
      ]
    },
    {
      "cell_type": "markdown",
      "metadata": {
        "id": "3pq2ShzuBgCS",
        "colab_type": "text"
      },
      "source": [
        "## Submission"
      ]
    },
    {
      "cell_type": "markdown",
      "metadata": {
        "id": "84fpR0GwBgCT",
        "colab_type": "text"
      },
      "source": [
        "**Complete** the code in this notebook [hw3.ipynb](hw3.ipynb) and submit it to the Canvas activity Homework(3). Please note than you can insert additional cells if required for your answers."
      ]
    }
  ]
}